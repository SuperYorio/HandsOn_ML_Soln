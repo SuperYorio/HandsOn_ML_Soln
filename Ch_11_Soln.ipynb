{
 "cells": [
  {
   "cell_type": "markdown",
   "metadata": {
    "colab_type": "text",
    "id": "Q3laFl8cnQ4D"
   },
   "source": [
    "# #8. Train a deep neural network on the CIFAR10 Dataset"
   ]
  },
  {
   "cell_type": "markdown",
   "metadata": {},
   "source": [
    "Hello! This is SuperYorio! This Notebook is my solution to Aurelion Geron's Chapter 11 exercises! Since the solutions are not yet available, I would like to present my results with other readers! Obviously, my solution won't be as optimized as Geron's, but I hope we can learn by comparing our results!"
   ]
  },
  {
   "cell_type": "markdown",
   "metadata": {},
   "source": [
    "A few important notes:\n",
    "<ul>\n",
    "     <li>To save time for this exercise, I have decided to use only part of the whole dataset.</li>\n",
    "     <li>I used 15 epochs for each fit since the point of this exercise is to compare vanilla networks with normalized networks with other various regularizers rather than trying to achieve a high accuracy.</li>\n",
    "     <li>The learning rate for each architecture aren't tuned using GridSearch, I simply hand tweaked a few values and picked the best ones</li>\n",
    "     <li>I don't think we should stress over the accuracy. We are using DNN to classify images when in reality, CNN's would work much, much better.</li>\n",
    "     <li>If you are an accuracy buff, I suggest you to thoroughly tune the learning rate and train on many more epochs!</li>\n",
    "</ul>"
   ]
  },
  {
   "cell_type": "markdown",
   "metadata": {
    "colab_type": "text",
    "id": "TjrNhkrjnlQM"
   },
   "source": [
    "a). Build a DNN with 20 hidden layers of 100 neurons each (that’s too many, but it’s the point of this exercise). Use He initialization and the ELU activation function."
   ]
  },
  {
   "cell_type": "markdown",
   "metadata": {},
   "source": [
    "Note: The CIFAR10 Dataset consists of 32 x 32 images with 3 color pixels, so the shape of an image is (32,32,3)"
   ]
  },
  {
   "cell_type": "code",
   "execution_count": 1,
   "metadata": {
    "colab": {
     "base_uri": "https://localhost:8080/",
     "height": 35
    },
    "colab_type": "code",
    "id": "nScBHbcGmjz6",
    "outputId": "30a23146-a654-4e33-eb5f-053d0c9b4bc2"
   },
   "outputs": [
    {
     "name": "stdout",
     "output_type": "stream",
     "text": [
      "TensorFlow 2.x selected.\n"
     ]
    }
   ],
   "source": [
    "try:\n",
    "    %tensorflow_version 2.x\n",
    "except Exception:\n",
    "    pass\n",
    "\n",
    "# TensorFlow 2.x\n",
    "import tensorflow as tf\n",
    "from tensorflow import keras\n",
    "\n",
    "import numpy as np"
   ]
  },
  {
   "cell_type": "code",
   "execution_count": 0,
   "metadata": {
    "colab": {},
    "colab_type": "code",
    "id": "hkbP7abDnOcg"
   },
   "outputs": [],
   "source": [
    "def build_model(n_units=100, n_layers=20, activation='elu'):\n",
    "    model = keras.models.Sequential()\n",
    "    model.add(keras.layers.Flatten(input_shape=[32,32,3]))\n",
    "    for _ in range(n_layers):\n",
    "        model.add(keras.layers.Dense(n_units, activation, kernel_initializer=\"he_normal\"))\n",
    "        model.add(keras.layers.Dense(10, 'softmax'))\n",
    "    return model"
   ]
  },
  {
   "cell_type": "markdown",
   "metadata": {
    "colab_type": "text",
    "id": "Asb-vUQSo_Vd"
   },
   "source": [
    "b). Using Nadam optimization and early stopping, train the network on the CIFAR10 dataset. You can load it with keras.datasets.cifar10.load_​data(). The dataset is composed of 60,000 32 × 32–pixel color images (50,000 for training, 10,000 for testing) with 10 classes, so you’ll need a softmax output layer with 10 neurons. Remember to search for the right learning rate each time you change the model’s architecture or hyperparameters."
   ]
  },
  {
   "cell_type": "code",
   "execution_count": 0,
   "metadata": {
    "colab": {},
    "colab_type": "code",
    "id": "a1xncjfgo-tN"
   },
   "outputs": [],
   "source": [
    "cifar = keras.datasets.cifar10.load_data()\n",
    "(X_train, y_train), (X_test, y_test) = cifar"
   ]
  },
  {
   "cell_type": "markdown",
   "metadata": {
    "colab_type": "text",
    "id": "Kj591nvIwoIn"
   },
   "source": [
    "To shorten up the training time, let's train on 20K images instead of 45K."
   ]
  },
  {
   "cell_type": "code",
   "execution_count": 0,
   "metadata": {
    "colab": {},
    "colab_type": "code",
    "id": "SBUqi1UOwwKR"
   },
   "outputs": [],
   "source": [
    "X_train = X_train[:20000]\n",
    "y_train = y_train[:20000]\n",
    "X_test = X_test[:4500]\n",
    "y_test = y_test[:4500]"
   ]
  },
  {
   "cell_type": "markdown",
   "metadata": {
    "colab_type": "text",
    "id": "-JQ__Tl1pe09"
   },
   "source": [
    "Now that we have the model configurations and the dataset ready, we can compile the model."
   ]
  },
  {
   "cell_type": "code",
   "execution_count": 5,
   "metadata": {
    "colab": {
     "base_uri": "https://localhost:8080/",
     "height": 553
    },
    "colab_type": "code",
    "id": "pwJ1kGwdpdPb",
    "outputId": "fdf42d98-76f0-4c92-a835-462860973ca1"
   },
   "outputs": [
    {
     "name": "stdout",
     "output_type": "stream",
     "text": [
      "Train on 18000 samples, validate on 2000 samples\n",
      "Epoch 1/15\n",
      "18000/18000 [==============================] - 9s 477us/sample - loss: 6.6277 - accuracy: 0.1617 - val_loss: 2.0967 - val_accuracy: 0.2070\n",
      "Epoch 2/15\n",
      "18000/18000 [==============================] - 6s 338us/sample - loss: 2.0525 - accuracy: 0.2463 - val_loss: 2.0201 - val_accuracy: 0.2500\n",
      "Epoch 3/15\n",
      "18000/18000 [==============================] - 6s 322us/sample - loss: 1.9873 - accuracy: 0.2693 - val_loss: 2.0850 - val_accuracy: 0.2575\n",
      "Epoch 4/15\n",
      "18000/18000 [==============================] - 6s 329us/sample - loss: 1.9397 - accuracy: 0.2908 - val_loss: 1.9915 - val_accuracy: 0.2855\n",
      "Epoch 5/15\n",
      "18000/18000 [==============================] - 6s 332us/sample - loss: 1.9135 - accuracy: 0.3053 - val_loss: 1.9891 - val_accuracy: 0.2880\n",
      "Epoch 6/15\n",
      "18000/18000 [==============================] - 5s 301us/sample - loss: 1.8715 - accuracy: 0.3199 - val_loss: 1.8857 - val_accuracy: 0.3200\n",
      "Epoch 7/15\n",
      "18000/18000 [==============================] - 6s 319us/sample - loss: 1.8444 - accuracy: 0.3309 - val_loss: 1.8727 - val_accuracy: 0.3195\n",
      "Epoch 8/15\n",
      "18000/18000 [==============================] - 6s 320us/sample - loss: 1.8307 - accuracy: 0.3403 - val_loss: 1.9149 - val_accuracy: 0.3025\n",
      "Epoch 9/15\n",
      "18000/18000 [==============================] - 6s 333us/sample - loss: 1.8151 - accuracy: 0.3454 - val_loss: 1.8670 - val_accuracy: 0.3370\n",
      "Epoch 10/15\n",
      "18000/18000 [==============================] - 6s 345us/sample - loss: 1.8039 - accuracy: 0.3507 - val_loss: 1.8458 - val_accuracy: 0.3440\n",
      "Epoch 11/15\n",
      "18000/18000 [==============================] - 6s 329us/sample - loss: 1.7930 - accuracy: 0.3536 - val_loss: 1.7959 - val_accuracy: 0.3560\n",
      "Epoch 12/15\n",
      "18000/18000 [==============================] - 6s 331us/sample - loss: 1.7828 - accuracy: 0.3547 - val_loss: 1.8065 - val_accuracy: 0.3565\n",
      "Epoch 13/15\n",
      "18000/18000 [==============================] - 6s 343us/sample - loss: 1.7699 - accuracy: 0.3565 - val_loss: 2.0602 - val_accuracy: 0.2825\n",
      "Epoch 14/15\n",
      "18000/18000 [==============================] - 6s 325us/sample - loss: 1.7619 - accuracy: 0.3623 - val_loss: 1.8083 - val_accuracy: 0.3385\n",
      "Epoch 15/15\n",
      "18000/18000 [==============================] - 6s 350us/sample - loss: 1.7524 - accuracy: 0.3657 - val_loss: 1.8555 - val_accuracy: 0.3365\n"
     ]
    }
   ],
   "source": [
    "import time\n",
    "\n",
    "model = build_model()\n",
    "model.compile(loss='sparse_categorical_crossentropy', optimizer=keras.optimizers.Nadam(), metrics=['accuracy'])\n",
    "t0 = time.time()\n",
    "history = model.fit(X_train, y_train, epochs=15, validation_split=0.1, callbacks=[keras.callbacks.EarlyStopping(patience=5, restore_best_weights=True)])\n",
    "t1 = time.time()\n",
    "total = t1 - t0"
   ]
  },
  {
   "cell_type": "code",
   "execution_count": 6,
   "metadata": {
    "colab": {
     "base_uri": "https://localhost:8080/",
     "height": 35
    },
    "colab_type": "code",
    "id": "R_ThE_jDBwR-",
    "outputId": "0d6d1089-8123-4fc4-ce9f-3593fc4c56df"
   },
   "outputs": [
    {
     "name": "stdout",
     "output_type": "stream",
     "text": [
      "Time Spanned: 91.94\n"
     ]
    }
   ],
   "source": [
    "print(\"Time Spanned:\", np.round(total, 2))"
   ]
  },
  {
   "cell_type": "code",
   "execution_count": 7,
   "metadata": {
    "colab": {
     "base_uri": "https://localhost:8080/",
     "height": 52
    },
    "colab_type": "code",
    "id": "_LWjXz8QJFLz",
    "outputId": "b0233fe2-aa6a-49da-c538-8f4c14a9193b"
   },
   "outputs": [
    {
     "name": "stdout",
     "output_type": "stream",
     "text": [
      "4500/4500 [==============================] - 0s 88us/sample - loss: 1.8068 - accuracy: 0.3442\n"
     ]
    },
    {
     "data": {
      "text/plain": [
       "[1.8068271695242988, 0.34422222]"
      ]
     },
     "execution_count": 7,
     "metadata": {
      "tags": []
     },
     "output_type": "execute_result"
    }
   ],
   "source": [
    "model.evaluate(X_test, y_test)"
   ]
  },
  {
   "cell_type": "markdown",
   "metadata": {
    "colab_type": "text",
    "id": "Jzfva36asTYZ"
   },
   "source": [
    "c). Now try adding Batch Normalization and compare the learning curves: Is it converging faster than before? Does it produce a better model? How does it affect training speed?"
   ]
  },
  {
   "cell_type": "code",
   "execution_count": 0,
   "metadata": {
    "colab": {},
    "colab_type": "code",
    "id": "IkGv0K2ZrQel"
   },
   "outputs": [],
   "source": [
    "def build_model_w_BN(n_units=100, n_layers=20, activation='elu'):\n",
    "    model = keras.models.Sequential()\n",
    "    model.add(keras.layers.Flatten(input_shape=[32,32,3]))\n",
    "    model.add(keras.layers.BatchNormalization(momentum=0.9))\n",
    "    for _ in range(n_layers):\n",
    "        model.add(keras.layers.Dense(n_units, activation, kernel_initializer=\"he_normal\"))\n",
    "        model.add(keras.layers.BatchNormalization(momentum=0.9))\n",
    "    model.add(keras.layers.Dense(10, 'softmax'))\n",
    "    return model"
   ]
  },
  {
   "cell_type": "code",
   "execution_count": 9,
   "metadata": {
    "colab": {
     "base_uri": "https://localhost:8080/",
     "height": 553
    },
    "colab_type": "code",
    "id": "51M4Y62lstzT",
    "outputId": "f07f850a-f6e3-4494-bfb8-601bd3b78ae1"
   },
   "outputs": [
    {
     "name": "stdout",
     "output_type": "stream",
     "text": [
      "Train on 18000 samples, validate on 2000 samples\n",
      "Epoch 1/15\n",
      "18000/18000 [==============================] - 23s 1ms/sample - loss: 2.1066 - accuracy: 0.2176 - val_loss: 2.0846 - val_accuracy: 0.2140\n",
      "Epoch 2/15\n",
      "18000/18000 [==============================] - 16s 895us/sample - loss: 1.9157 - accuracy: 0.2861 - val_loss: 1.9248 - val_accuracy: 0.2695\n",
      "Epoch 3/15\n",
      "18000/18000 [==============================] - 16s 893us/sample - loss: 1.8616 - accuracy: 0.3075 - val_loss: 1.8725 - val_accuracy: 0.2950\n",
      "Epoch 4/15\n",
      "18000/18000 [==============================] - 16s 907us/sample - loss: 1.8213 - accuracy: 0.3293 - val_loss: 1.8221 - val_accuracy: 0.3400\n",
      "Epoch 5/15\n",
      "18000/18000 [==============================] - 17s 925us/sample - loss: 1.7935 - accuracy: 0.3377 - val_loss: 1.8057 - val_accuracy: 0.3370\n",
      "Epoch 6/15\n",
      "18000/18000 [==============================] - 17s 934us/sample - loss: 1.7618 - accuracy: 0.3538 - val_loss: 1.7909 - val_accuracy: 0.3335\n",
      "Epoch 7/15\n",
      "18000/18000 [==============================] - 17s 920us/sample - loss: 1.7541 - accuracy: 0.3549 - val_loss: 1.7638 - val_accuracy: 0.3590\n",
      "Epoch 8/15\n",
      "18000/18000 [==============================] - 17s 947us/sample - loss: 1.7267 - accuracy: 0.3693 - val_loss: 1.8017 - val_accuracy: 0.3475\n",
      "Epoch 9/15\n",
      "18000/18000 [==============================] - 17s 960us/sample - loss: 1.7102 - accuracy: 0.3744 - val_loss: 1.6979 - val_accuracy: 0.3650\n",
      "Epoch 10/15\n",
      "18000/18000 [==============================] - 17s 945us/sample - loss: 1.6840 - accuracy: 0.3857 - val_loss: 1.7491 - val_accuracy: 0.3730\n",
      "Epoch 11/15\n",
      "18000/18000 [==============================] - 17s 929us/sample - loss: 1.6668 - accuracy: 0.3925 - val_loss: 1.6718 - val_accuracy: 0.4040\n",
      "Epoch 12/15\n",
      "18000/18000 [==============================] - 17s 923us/sample - loss: 1.6425 - accuracy: 0.4072 - val_loss: 1.6252 - val_accuracy: 0.4020\n",
      "Epoch 13/15\n",
      "18000/18000 [==============================] - 17s 963us/sample - loss: 1.6131 - accuracy: 0.4080 - val_loss: 1.7312 - val_accuracy: 0.3770\n",
      "Epoch 14/15\n",
      "18000/18000 [==============================] - 17s 971us/sample - loss: 1.5974 - accuracy: 0.4121 - val_loss: 1.6928 - val_accuracy: 0.3925\n",
      "Epoch 15/15\n",
      "18000/18000 [==============================] - 17s 917us/sample - loss: 1.5873 - accuracy: 0.4217 - val_loss: 1.6370 - val_accuracy: 0.4040\n"
     ]
    }
   ],
   "source": [
    "model = build_model_w_BN()\n",
    "model.compile(loss='sparse_categorical_crossentropy', optimizer=keras.optimizers.Nadam(learning_rate=0.01), metrics=['accuracy'])\n",
    "t0 = time.time()\n",
    "history_w_BN = model.fit(X_train, y_train, epochs=15, validation_split=0.1, callbacks=[keras.callbacks.EarlyStopping(patience=5, restore_best_weights=True)])\n",
    "t1 = time.time()\n",
    "total = t1 - t0"
   ]
  },
  {
   "cell_type": "code",
   "execution_count": 10,
   "metadata": {
    "colab": {
     "base_uri": "https://localhost:8080/",
     "height": 35
    },
    "colab_type": "code",
    "id": "LX3qgemRCDgz",
    "outputId": "c2b5de76-74d2-4553-b3ec-c84cb1691f9c"
   },
   "outputs": [
    {
     "name": "stdout",
     "output_type": "stream",
     "text": [
      "Time Spanned for BN: 258.09\n"
     ]
    }
   ],
   "source": [
    "print(\"Time Spanned for BN:\", np.round(total, 2))"
   ]
  },
  {
   "cell_type": "code",
   "execution_count": 11,
   "metadata": {
    "colab": {
     "base_uri": "https://localhost:8080/",
     "height": 52
    },
    "colab_type": "code",
    "id": "Pr4GMDunJLAI",
    "outputId": "5bbc1c48-dade-44ec-d0ac-61481b877b9d"
   },
   "outputs": [
    {
     "name": "stdout",
     "output_type": "stream",
     "text": [
      "4500/4500 [==============================] - 1s 136us/sample - loss: 1.6286 - accuracy: 0.4156\n"
     ]
    },
    {
     "data": {
      "text/plain": [
       "[1.6285865443547567, 0.41555557]"
      ]
     },
     "execution_count": 11,
     "metadata": {
      "tags": []
     },
     "output_type": "execute_result"
    }
   ],
   "source": [
    "model.evaluate(X_test, y_test)"
   ]
  },
  {
   "cell_type": "code",
   "execution_count": 12,
   "metadata": {
    "colab": {
     "base_uri": "https://localhost:8080/",
     "height": 337
    },
    "colab_type": "code",
    "id": "n38azDKEs1-9",
    "outputId": "dece4ded-93d7-4cfd-8cb3-5793c7fd3976"
   },
   "outputs": [
    {
     "name": "stdout",
     "output_type": "stream",
     "text": [
      "Learning Curve for Model without BN:\n"
     ]
    },
    {
     "data": {
      "image/png": "[encoded data removed]",
      "text/plain": [
       "<Figure size 576x360 with 1 Axes>"
      ]
     },
     "metadata": {
      "tags": []
     },
     "output_type": "display_data"
    }
   ],
   "source": [
    "import pandas as pd\n",
    "import matplotlib as mpl\n",
    "import matplotlib.pyplot as plt\n",
    "\n",
    "def plot_learning_curve(history):\n",
    "    pd.DataFrame(history.history).plot(figsize=(8, 5))\n",
    "\n",
    "print(\"Learning Curve for Model without BN:\")\n",
    "plot_learning_curve(history)"
   ]
  },
  {
   "cell_type": "code",
   "execution_count": 13,
   "metadata": {
    "colab": {
     "base_uri": "https://localhost:8080/",
     "height": 337
    },
    "colab_type": "code",
    "id": "oBXO15U5vWfZ",
    "outputId": "05b65ae1-d7f0-474a-c65e-c0a29c5e8a5e"
   },
   "outputs": [
    {
     "name": "stdout",
     "output_type": "stream",
     "text": [
      "Learning Curve for Model with BN:\n"
     ]
    },
    {
     "data": {
      "image/png": "[encoded data removed]",
      "text/plain": [
       "<Figure size 576x360 with 1 Axes>"
      ]
     },
     "metadata": {
      "tags": []
     },
     "output_type": "display_data"
    }
   ],
   "source": [
    "print(\"Learning Curve for Model with BN:\")\n",
    "plot_learning_curve(history_w_BN)"
   ]
  },
  {
   "cell_type": "markdown",
   "metadata": {
    "colab_type": "text",
    "id": "7FtbOsbfwCKG"
   },
   "source": [
    "d). Try replacing Batch Normalization with SELU, and make the necessary adjustements to ensure the network self-normalizes (i.e., standardize the input features, use LeCun normal initialization, make sure the DNN contains only a sequence of dense layers, etc.)."
   ]
  },
  {
   "cell_type": "code",
   "execution_count": 0,
   "metadata": {
    "colab": {},
    "colab_type": "code",
    "id": "wYd050pzwBj6"
   },
   "outputs": [],
   "source": [
    "def build_model_SN(n_units=100, n_layers=20, activation='selu'):\n",
    "    model = keras.models.Sequential()\n",
    "    model.add(keras.layers.Flatten(input_shape=[32,32,3]))\n",
    "    model.add(keras.layers.BatchNormalization())\n",
    "    for _ in range(n_layers):\n",
    "        model.add(keras.layers.Dense(n_units, activation, kernel_initializer=\"lecun_normal\"))\n",
    "        model.add(keras.layers.BatchNormalization())\n",
    "    model.add(keras.layers.Dense(10, 'softmax'))\n",
    "    return model"
   ]
  },
  {
   "cell_type": "code",
   "execution_count": 15,
   "metadata": {
    "colab": {
     "base_uri": "https://localhost:8080/",
     "height": 553
    },
    "colab_type": "code",
    "id": "1w6wRcy4vr7c",
    "outputId": "68af4223-6555-4fa8-8a50-d884e992db8d"
   },
   "outputs": [
    {
     "name": "stdout",
     "output_type": "stream",
     "text": [
      "Train on 18000 samples, validate on 2000 samples\n",
      "Epoch 1/15\n",
      "18000/18000 [==============================] - 24s 1ms/sample - loss: 2.1493 - accuracy: 0.2034 - val_loss: 3.2608 - val_accuracy: 0.1820\n",
      "Epoch 2/15\n",
      "18000/18000 [==============================] - 16s 915us/sample - loss: 1.9526 - accuracy: 0.2601 - val_loss: 2.3529 - val_accuracy: 0.2350\n",
      "Epoch 3/15\n",
      "18000/18000 [==============================] - 16s 900us/sample - loss: 1.8880 - accuracy: 0.2965 - val_loss: 3.0627 - val_accuracy: 0.2355\n",
      "Epoch 4/15\n",
      "18000/18000 [==============================] - 17s 921us/sample - loss: 1.8382 - accuracy: 0.3220 - val_loss: 2.9155 - val_accuracy: 0.1885\n",
      "Epoch 5/15\n",
      "18000/18000 [==============================] - 17s 946us/sample - loss: 1.8249 - accuracy: 0.3298 - val_loss: 3.1920 - val_accuracy: 0.2000\n",
      "Epoch 6/15\n",
      "18000/18000 [==============================] - 17s 931us/sample - loss: 1.7898 - accuracy: 0.3362 - val_loss: 2.0065 - val_accuracy: 0.2885\n",
      "Epoch 7/15\n",
      "18000/18000 [==============================] - 17s 933us/sample - loss: 1.7672 - accuracy: 0.3573 - val_loss: 2.2404 - val_accuracy: 0.2945\n",
      "Epoch 8/15\n",
      "18000/18000 [==============================] - 17s 935us/sample - loss: 1.7451 - accuracy: 0.3634 - val_loss: 2.5633 - val_accuracy: 0.2670\n",
      "Epoch 9/15\n",
      "18000/18000 [==============================] - 17s 946us/sample - loss: 1.7215 - accuracy: 0.3721 - val_loss: 2.3819 - val_accuracy: 0.2635\n",
      "Epoch 10/15\n",
      "18000/18000 [==============================] - 16s 896us/sample - loss: 1.6979 - accuracy: 0.3768 - val_loss: 1.9916 - val_accuracy: 0.3290\n",
      "Epoch 11/15\n",
      "18000/18000 [==============================] - 17s 921us/sample - loss: 1.6940 - accuracy: 0.3858 - val_loss: 2.2986 - val_accuracy: 0.2610\n",
      "Epoch 12/15\n",
      "18000/18000 [==============================] - 17s 970us/sample - loss: 1.6825 - accuracy: 0.3874 - val_loss: 2.0528 - val_accuracy: 0.3045\n",
      "Epoch 13/15\n",
      "18000/18000 [==============================] - 17s 931us/sample - loss: 1.6617 - accuracy: 0.4009 - val_loss: 2.7457 - val_accuracy: 0.2220\n",
      "Epoch 14/15\n",
      "18000/18000 [==============================] - 17s 945us/sample - loss: 1.6625 - accuracy: 0.4022 - val_loss: 2.6655 - val_accuracy: 0.2165\n",
      "Epoch 15/15\n",
      "18000/18000 [==============================] - 17s 919us/sample - loss: 1.6331 - accuracy: 0.4097 - val_loss: 1.8686 - val_accuracy: 0.3875\n"
     ]
    }
   ],
   "source": [
    "model = build_model_SN()\n",
    "model.compile(loss='sparse_categorical_crossentropy', optimizer=keras.optimizers.Nadam(learning_rate=0.01), metrics=['accuracy'])\n",
    "t0 = time.time()\n",
    "history_SN = model.fit(X_train, y_train, epochs=15, validation_split=0.1, callbacks=[keras.callbacks.EarlyStopping(patience=5, restore_best_weights=True)])\n",
    "t1 = time.time()\n",
    "total = t1 - t0"
   ]
  },
  {
   "cell_type": "code",
   "execution_count": 16,
   "metadata": {
    "colab": {
     "base_uri": "https://localhost:8080/",
     "height": 35
    },
    "colab_type": "code",
    "id": "GLEiW51tCQGD",
    "outputId": "4593d41e-b156-47cd-e035-bf0248d7cb7c"
   },
   "outputs": [
    {
     "name": "stdout",
     "output_type": "stream",
     "text": [
      "Time Spanned for SN: 258.44\n"
     ]
    }
   ],
   "source": [
    "print(\"Time Spanned for SN:\", np.round(total, 2))"
   ]
  },
  {
   "cell_type": "code",
   "execution_count": 17,
   "metadata": {
    "colab": {
     "base_uri": "https://localhost:8080/",
     "height": 52
    },
    "colab_type": "code",
    "id": "f9bf62oKJMSw",
    "outputId": "b2c65069-e509-4eab-b737-4d4ccf654498"
   },
   "outputs": [
    {
     "name": "stdout",
     "output_type": "stream",
     "text": [
      "4500/4500 [==============================] - 1s 155us/sample - loss: 1.8351 - accuracy: 0.3831\n"
     ]
    },
    {
     "data": {
      "text/plain": [
       "[1.835073950237698, 0.38311112]"
      ]
     },
     "execution_count": 17,
     "metadata": {
      "tags": []
     },
     "output_type": "execute_result"
    }
   ],
   "source": [
    "model.evaluate(X_test, y_test)"
   ]
  },
  {
   "cell_type": "code",
   "execution_count": 18,
   "metadata": {
    "colab": {
     "base_uri": "https://localhost:8080/",
     "height": 337
    },
    "colab_type": "code",
    "id": "AzvL2f4dwdyn",
    "outputId": "28572372-40ba-4440-9c0f-4c7782f93dd8"
   },
   "outputs": [
    {
     "name": "stdout",
     "output_type": "stream",
     "text": [
      "Learning Curve for SN Model:\n"
     ]
    },
    {
     "data": {
      "image/png": "[encoded data removed]",
      "text/plain": [
       "<Figure size 576x360 with 1 Axes>"
      ]
     },
     "metadata": {
      "tags": []
     },
     "output_type": "display_data"
    }
   ],
   "source": [
    "print(\"Learning Curve for SN Model:\")\n",
    "plot_learning_curve(history_SN)"
   ]
  },
  {
   "cell_type": "markdown",
   "metadata": {},
   "source": [
    "Overall, the accuracy increases from Vanilla < Self-Normalize < Batch Normalization neural networks. Although SN and BN both took more time during training speed than a Vanilla network, it did converge in a better minimum and thus have better performance in terms of accuracy. That said, BN and SN can achieve higher accuracy than Vanilla using only 15 epochs."
   ]
  },
  {
   "cell_type": "markdown",
   "metadata": {
    "colab_type": "text",
    "id": "Ml3A_OB-zjgQ"
   },
   "source": [
    "Now that we have finished training 3 different neural networks, we can see that neural networks with Batch Normalization and self-normalization has faster training speed in the sense that it reaches higher accuracy faster than the neural network without any normalization."
   ]
  },
  {
   "cell_type": "markdown",
   "metadata": {
    "colab_type": "text",
    "id": "xdkDUG4v0Dgo"
   },
   "source": [
    "e). Try regularizing the model with alpha dropout. Then, without retraining your model, see if you can achieve better accuracy using MC Dropout."
   ]
  },
  {
   "cell_type": "code",
   "execution_count": 0,
   "metadata": {
    "colab": {},
    "colab_type": "code",
    "id": "12dp-hz6zduV"
   },
   "outputs": [],
   "source": [
    "def build_model_Alpha(n_units=100, n_layers=20, activation='elu'):\n",
    "    model = keras.models.Sequential()\n",
    "    model.add(keras.layers.Flatten(input_shape=[32,32,3]))\n",
    "    model.add(keras.layers.BatchNormalization(momentum=0.9))\n",
    "    for _ in range(n_layers):\n",
    "        model.add(keras.layers.Dense(n_units, activation, kernel_initializer=\"he_normal\"))\n",
    "        model.add(keras.layers.AlphaDropout(rate=0.2))\n",
    "    model.add(keras.layers.Dense(10, 'softmax'))\n",
    "    return model"
   ]
  },
  {
   "cell_type": "code",
   "execution_count": 20,
   "metadata": {
    "colab": {
     "base_uri": "https://localhost:8080/",
     "height": 553
    },
    "colab_type": "code",
    "id": "lKZGBJtW28XM",
    "outputId": "ce091a7c-5902-4d73-8aae-e73bca0c10af"
   },
   "outputs": [
    {
     "name": "stdout",
     "output_type": "stream",
     "text": [
      "Train on 18000 samples, validate on 2000 samples\n",
      "Epoch 1/15\n",
      "18000/18000 [==============================] - 11s 606us/sample - loss: 2.5792 - accuracy: 0.1082 - val_loss: 74.1533 - val_accuracy: 0.1045\n",
      "Epoch 2/15\n",
      "18000/18000 [==============================] - 8s 439us/sample - loss: 2.2033 - accuracy: 0.1573 - val_loss: 241.8973 - val_accuracy: 0.1025\n",
      "Epoch 3/15\n",
      "18000/18000 [==============================] - 7s 392us/sample - loss: 2.1019 - accuracy: 0.1729 - val_loss: 57.4536 - val_accuracy: 0.1010\n",
      "Epoch 4/15\n",
      "18000/18000 [==============================] - 7s 396us/sample - loss: 2.0703 - accuracy: 0.1800 - val_loss: 78.9640 - val_accuracy: 0.0960\n",
      "Epoch 5/15\n",
      "18000/18000 [==============================] - 8s 422us/sample - loss: 2.0465 - accuracy: 0.1864 - val_loss: 128.6582 - val_accuracy: 0.1035\n",
      "Epoch 6/15\n",
      "18000/18000 [==============================] - 7s 395us/sample - loss: 2.0293 - accuracy: 0.1971 - val_loss: 81.0856 - val_accuracy: 0.1075\n",
      "Epoch 7/15\n",
      "18000/18000 [==============================] - 7s 415us/sample - loss: 2.0157 - accuracy: 0.1967 - val_loss: 83.8067 - val_accuracy: 0.1245\n",
      "Epoch 8/15\n",
      "18000/18000 [==============================] - 8s 420us/sample - loss: 2.0062 - accuracy: 0.2079 - val_loss: 57.4338 - val_accuracy: 0.1420\n",
      "Epoch 9/15\n",
      "18000/18000 [==============================] - 8s 429us/sample - loss: 1.9986 - accuracy: 0.2112 - val_loss: 92.6965 - val_accuracy: 0.1655\n",
      "Epoch 10/15\n",
      "18000/18000 [==============================] - 8s 417us/sample - loss: 1.9936 - accuracy: 0.2095 - val_loss: 54.0230 - val_accuracy: 0.1665\n",
      "Epoch 11/15\n",
      "18000/18000 [==============================] - 7s 399us/sample - loss: 1.9813 - accuracy: 0.2207 - val_loss: 44.1152 - val_accuracy: 0.0995\n",
      "Epoch 12/15\n",
      "18000/18000 [==============================] - 7s 411us/sample - loss: 1.9929 - accuracy: 0.2074 - val_loss: 35.0490 - val_accuracy: 0.1725\n",
      "Epoch 13/15\n",
      "18000/18000 [==============================] - 8s 428us/sample - loss: 2.0076 - accuracy: 0.2048 - val_loss: 76.5743 - val_accuracy: 0.1800\n",
      "Epoch 14/15\n",
      "18000/18000 [==============================] - 7s 404us/sample - loss: 1.9962 - accuracy: 0.2143 - val_loss: 61.8173 - val_accuracy: 0.1805\n",
      "Epoch 15/15\n",
      "18000/18000 [==============================] - 8s 424us/sample - loss: 1.9817 - accuracy: 0.2169 - val_loss: 45.2153 - val_accuracy: 0.1205\n"
     ]
    }
   ],
   "source": [
    "model = build_model_Alpha()\n",
    "model.compile(loss='sparse_categorical_crossentropy', optimizer=keras.optimizers.Nadam(learning_rate=0.001), metrics=['accuracy'])\n",
    "t0 = time.time()\n",
    "history_Alpha = model.fit(X_train, y_train, epochs=15, validation_split=0.1, callbacks=[keras.callbacks.EarlyStopping(patience=5, restore_best_weights=True)])\n",
    "t1 = time.time()\n",
    "total = t1 - t0"
   ]
  },
  {
   "cell_type": "code",
   "execution_count": 21,
   "metadata": {
    "colab": {
     "base_uri": "https://localhost:8080/",
     "height": 35
    },
    "colab_type": "code",
    "id": "kJT0mYdGCYEj",
    "outputId": "96c5b1d9-44dd-414b-f990-19446dd7a330"
   },
   "outputs": [
    {
     "name": "stdout",
     "output_type": "stream",
     "text": [
      "Time Spanned for Dropout: 115.36\n"
     ]
    }
   ],
   "source": [
    "print(\"Time Spanned for Dropout:\", np.round(total, 2))"
   ]
  },
  {
   "cell_type": "code",
   "execution_count": 22,
   "metadata": {
    "colab": {
     "base_uri": "https://localhost:8080/",
     "height": 52
    },
    "colab_type": "code",
    "id": "EFk4kIv5JNc6",
    "outputId": "a23dee5e-b016-4735-cdee-045d1ddf21bf"
   },
   "outputs": [
    {
     "name": "stdout",
     "output_type": "stream",
     "text": [
      "4500/4500 [==============================] - 0s 96us/sample - loss: 42.5084 - accuracy: 0.1118\n"
     ]
    },
    {
     "data": {
      "text/plain": [
       "[42.50837128363715, 0.111777775]"
      ]
     },
     "execution_count": 22,
     "metadata": {
      "tags": []
     },
     "output_type": "execute_result"
    }
   ],
   "source": [
    "model.evaluate(X_test, y_test)"
   ]
  },
  {
   "cell_type": "code",
   "execution_count": 23,
   "metadata": {
    "colab": {
     "base_uri": "https://localhost:8080/",
     "height": 337
    },
    "colab_type": "code",
    "id": "Hl4ZH_1p3AAX",
    "outputId": "38c96ee0-0f2a-4859-900c-da78f1bd7b18"
   },
   "outputs": [
    {
     "name": "stdout",
     "output_type": "stream",
     "text": [
      "Learning Curve for Model with Alpha Dropout:\n"
     ]
    },
    {
     "data": {
      "image/png": "[encoded data removed]",
      "text/plain": [
       "<Figure size 576x360 with 1 Axes>"
      ]
     },
     "metadata": {
      "tags": []
     },
     "output_type": "display_data"
    }
   ],
   "source": [
    "print(\"Learning Curve for Model with Alpha Dropout:\")\n",
    "plot_learning_curve(history_Alpha)"
   ]
  },
  {
   "cell_type": "markdown",
   "metadata": {
    "colab_type": "text",
    "id": "JyrfdRMh5lz7"
   },
   "source": [
    "The learning curve is obviously wacky. I think the main issue lies in that it's not optimized enough and the hyperparameters are not tuned. Also, keep in mind that the data is shortened for the sake of computational time."
   ]
  },
  {
   "cell_type": "markdown",
   "metadata": {
    "colab_type": "text",
    "id": "pUvOLJgs6LQq"
   },
   "source": [
    "Let's apply MC Dropout!"
   ]
  },
  {
   "cell_type": "code",
   "execution_count": 0,
   "metadata": {
    "colab": {},
    "colab_type": "code",
    "id": "2GdQtnDJ4Pts"
   },
   "outputs": [],
   "source": [
    "X_test_mod = tf.dtypes.cast(X_test, tf.float32)\n",
    "y_prob = np.stack([model(X_test_mod, training=True) for sample in range(100)])\n",
    "y_mean = y_prob.mean(axis=0)\n",
    "y_std = y_prob.std(axis=0)"
   ]
  },
  {
   "cell_type": "code",
   "execution_count": 25,
   "metadata": {
    "colab": {
     "base_uri": "https://localhost:8080/",
     "height": 35
    },
    "colab_type": "code",
    "id": "QxraVuTx7tof",
    "outputId": "d1b06903-3a0b-47fc-a174-9f57c134e529"
   },
   "outputs": [
    {
     "data": {
      "text/plain": [
       "array([[0., 0., 0., 0., 0., 1., 0., 0., 0., 0.]], dtype=float32)"
      ]
     },
     "execution_count": 25,
     "metadata": {
      "tags": []
     },
     "output_type": "execute_result"
    }
   ],
   "source": [
    "np.round(model.predict(X_test[:1]), 2)"
   ]
  },
  {
   "cell_type": "code",
   "execution_count": 26,
   "metadata": {
    "colab": {
     "base_uri": "https://localhost:8080/",
     "height": 1000
    },
    "colab_type": "code",
    "id": "S8TjY-wa8PvW",
    "outputId": "e1831fc2-f8b8-42d0-9bde-0c8932c055e3"
   },
   "outputs": [
    {
     "data": {
      "text/plain": [
       "array([[[0.03, 0.02, 0.13, 0.17, 0.2 , 0.13, 0.17, 0.12, 0.02, 0.02]],\n",
       "\n",
       "       [[0.02, 0.01, 0.12, 0.16, 0.17, 0.21, 0.18, 0.12, 0.01, 0.01]],\n",
       "\n",
       "       [[0.02, 0.01, 0.15, 0.15, 0.16, 0.18, 0.16, 0.13, 0.01, 0.02]],\n",
       "\n",
       "       [[0.03, 0.03, 0.14, 0.15, 0.11, 0.16, 0.15, 0.17, 0.02, 0.04]],\n",
       "\n",
       "       [[0.03, 0.02, 0.15, 0.12, 0.17, 0.2 , 0.13, 0.14, 0.02, 0.02]],\n",
       "\n",
       "       [[0.02, 0.02, 0.15, 0.15, 0.14, 0.17, 0.16, 0.13, 0.02, 0.02]],\n",
       "\n",
       "       [[0.04, 0.03, 0.14, 0.13, 0.16, 0.16, 0.15, 0.14, 0.03, 0.03]],\n",
       "\n",
       "       [[0.02, 0.03, 0.14, 0.13, 0.15, 0.18, 0.15, 0.14, 0.02, 0.03]],\n",
       "\n",
       "       [[0.05, 0.05, 0.14, 0.13, 0.14, 0.13, 0.1 , 0.14, 0.04, 0.08]],\n",
       "\n",
       "       [[0.04, 0.04, 0.12, 0.14, 0.14, 0.19, 0.14, 0.12, 0.04, 0.04]],\n",
       "\n",
       "       [[0.06, 0.04, 0.15, 0.13, 0.12, 0.19, 0.13, 0.13, 0.03, 0.02]],\n",
       "\n",
       "       [[0.03, 0.02, 0.13, 0.15, 0.16, 0.17, 0.12, 0.16, 0.02, 0.03]],\n",
       "\n",
       "       [[0.02, 0.02, 0.16, 0.13, 0.15, 0.21, 0.15, 0.14, 0.01, 0.02]],\n",
       "\n",
       "       [[0.03, 0.01, 0.11, 0.16, 0.18, 0.18, 0.16, 0.14, 0.02, 0.02]],\n",
       "\n",
       "       [[0.03, 0.03, 0.15, 0.13, 0.16, 0.17, 0.15, 0.12, 0.02, 0.03]],\n",
       "\n",
       "       [[0.05, 0.03, 0.13, 0.12, 0.14, 0.17, 0.11, 0.17, 0.04, 0.03]],\n",
       "\n",
       "       [[0.07, 0.04, 0.12, 0.11, 0.14, 0.16, 0.14, 0.12, 0.04, 0.06]],\n",
       "\n",
       "       [[0.04, 0.03, 0.13, 0.12, 0.16, 0.17, 0.12, 0.15, 0.03, 0.05]],\n",
       "\n",
       "       [[0.07, 0.03, 0.15, 0.11, 0.17, 0.14, 0.13, 0.12, 0.03, 0.04]],\n",
       "\n",
       "       [[0.06, 0.03, 0.12, 0.12, 0.15, 0.14, 0.13, 0.15, 0.04, 0.05]],\n",
       "\n",
       "       [[0.03, 0.02, 0.11, 0.11, 0.18, 0.19, 0.14, 0.17, 0.03, 0.02]],\n",
       "\n",
       "       [[0.06, 0.04, 0.13, 0.13, 0.14, 0.16, 0.12, 0.15, 0.04, 0.04]],\n",
       "\n",
       "       [[0.03, 0.02, 0.15, 0.15, 0.15, 0.21, 0.14, 0.12, 0.01, 0.02]],\n",
       "\n",
       "       [[0.06, 0.03, 0.13, 0.13, 0.14, 0.14, 0.12, 0.17, 0.04, 0.04]],\n",
       "\n",
       "       [[0.02, 0.01, 0.13, 0.15, 0.14, 0.18, 0.17, 0.16, 0.01, 0.02]],\n",
       "\n",
       "       [[0.02, 0.02, 0.13, 0.13, 0.16, 0.17, 0.15, 0.17, 0.02, 0.03]],\n",
       "\n",
       "       [[0.05, 0.04, 0.13, 0.16, 0.11, 0.15, 0.12, 0.16, 0.03, 0.05]],\n",
       "\n",
       "       [[0.03, 0.02, 0.13, 0.14, 0.15, 0.17, 0.17, 0.14, 0.02, 0.03]],\n",
       "\n",
       "       [[0.04, 0.02, 0.16, 0.12, 0.15, 0.17, 0.13, 0.15, 0.03, 0.02]],\n",
       "\n",
       "       [[0.02, 0.  , 0.14, 0.12, 0.18, 0.22, 0.21, 0.09, 0.01, 0.01]],\n",
       "\n",
       "       [[0.02, 0.01, 0.13, 0.17, 0.14, 0.2 , 0.15, 0.14, 0.01, 0.02]],\n",
       "\n",
       "       [[0.02, 0.03, 0.17, 0.14, 0.11, 0.2 , 0.14, 0.13, 0.02, 0.03]],\n",
       "\n",
       "       [[0.04, 0.02, 0.14, 0.13, 0.15, 0.16, 0.17, 0.15, 0.02, 0.02]],\n",
       "\n",
       "       [[0.03, 0.02, 0.15, 0.14, 0.17, 0.17, 0.15, 0.14, 0.02, 0.02]],\n",
       "\n",
       "       [[0.03, 0.02, 0.14, 0.15, 0.16, 0.18, 0.15, 0.13, 0.01, 0.03]],\n",
       "\n",
       "       [[0.03, 0.03, 0.14, 0.14, 0.13, 0.18, 0.13, 0.16, 0.02, 0.03]],\n",
       "\n",
       "       [[0.05, 0.03, 0.14, 0.13, 0.14, 0.16, 0.13, 0.15, 0.03, 0.04]],\n",
       "\n",
       "       [[0.02, 0.01, 0.16, 0.14, 0.16, 0.19, 0.16, 0.13, 0.01, 0.02]],\n",
       "\n",
       "       [[0.07, 0.04, 0.14, 0.14, 0.15, 0.14, 0.12, 0.11, 0.04, 0.04]],\n",
       "\n",
       "       [[0.05, 0.02, 0.14, 0.12, 0.16, 0.15, 0.17, 0.15, 0.02, 0.03]],\n",
       "\n",
       "       [[0.03, 0.04, 0.15, 0.14, 0.15, 0.16, 0.12, 0.15, 0.02, 0.06]],\n",
       "\n",
       "       [[0.03, 0.03, 0.11, 0.15, 0.15, 0.19, 0.16, 0.14, 0.02, 0.03]],\n",
       "\n",
       "       [[0.03, 0.07, 0.11, 0.15, 0.14, 0.14, 0.11, 0.16, 0.02, 0.06]],\n",
       "\n",
       "       [[0.03, 0.01, 0.15, 0.13, 0.14, 0.23, 0.16, 0.11, 0.02, 0.01]],\n",
       "\n",
       "       [[0.03, 0.02, 0.13, 0.13, 0.17, 0.18, 0.17, 0.12, 0.02, 0.03]],\n",
       "\n",
       "       [[0.05, 0.03, 0.16, 0.13, 0.14, 0.18, 0.14, 0.11, 0.03, 0.04]],\n",
       "\n",
       "       [[0.01, 0.01, 0.16, 0.16, 0.14, 0.22, 0.15, 0.12, 0.01, 0.01]],\n",
       "\n",
       "       [[0.02, 0.01, 0.14, 0.14, 0.14, 0.19, 0.15, 0.17, 0.01, 0.02]],\n",
       "\n",
       "       [[0.02, 0.02, 0.18, 0.14, 0.15, 0.19, 0.15, 0.12, 0.01, 0.02]],\n",
       "\n",
       "       [[0.03, 0.03, 0.13, 0.15, 0.18, 0.16, 0.14, 0.15, 0.02, 0.02]],\n",
       "\n",
       "       [[0.02, 0.03, 0.13, 0.15, 0.13, 0.18, 0.14, 0.18, 0.01, 0.04]],\n",
       "\n",
       "       [[0.04, 0.05, 0.12, 0.15, 0.17, 0.14, 0.13, 0.14, 0.02, 0.04]],\n",
       "\n",
       "       [[0.08, 0.02, 0.14, 0.12, 0.17, 0.15, 0.12, 0.14, 0.04, 0.03]],\n",
       "\n",
       "       [[0.05, 0.04, 0.12, 0.13, 0.17, 0.14, 0.12, 0.12, 0.04, 0.05]],\n",
       "\n",
       "       [[0.02, 0.01, 0.14, 0.17, 0.17, 0.18, 0.16, 0.13, 0.01, 0.01]],\n",
       "\n",
       "       [[0.02, 0.02, 0.12, 0.14, 0.17, 0.21, 0.15, 0.13, 0.02, 0.01]],\n",
       "\n",
       "       [[0.02, 0.02, 0.12, 0.16, 0.15, 0.18, 0.16, 0.15, 0.01, 0.03]],\n",
       "\n",
       "       [[0.06, 0.05, 0.13, 0.17, 0.13, 0.12, 0.09, 0.14, 0.04, 0.07]],\n",
       "\n",
       "       [[0.02, 0.01, 0.14, 0.13, 0.2 , 0.19, 0.13, 0.16, 0.01, 0.02]],\n",
       "\n",
       "       [[0.03, 0.03, 0.13, 0.15, 0.16, 0.17, 0.17, 0.12, 0.02, 0.03]],\n",
       "\n",
       "       [[0.04, 0.02, 0.15, 0.12, 0.15, 0.2 , 0.15, 0.12, 0.02, 0.03]],\n",
       "\n",
       "       [[0.01, 0.01, 0.15, 0.15, 0.19, 0.19, 0.16, 0.13, 0.01, 0.01]],\n",
       "\n",
       "       [[0.04, 0.01, 0.18, 0.13, 0.14, 0.18, 0.15, 0.13, 0.02, 0.02]],\n",
       "\n",
       "       [[0.05, 0.02, 0.16, 0.13, 0.17, 0.14, 0.18, 0.1 , 0.02, 0.02]],\n",
       "\n",
       "       [[0.02, 0.02, 0.14, 0.16, 0.15, 0.18, 0.17, 0.13, 0.01, 0.02]],\n",
       "\n",
       "       [[0.05, 0.14, 0.13, 0.1 , 0.08, 0.13, 0.08, 0.11, 0.05, 0.12]],\n",
       "\n",
       "       [[0.03, 0.01, 0.13, 0.16, 0.16, 0.18, 0.14, 0.15, 0.02, 0.02]],\n",
       "\n",
       "       [[0.03, 0.02, 0.14, 0.15, 0.13, 0.19, 0.16, 0.13, 0.02, 0.03]],\n",
       "\n",
       "       [[0.02, 0.03, 0.15, 0.14, 0.13, 0.19, 0.13, 0.17, 0.02, 0.04]],\n",
       "\n",
       "       [[0.03, 0.02, 0.13, 0.16, 0.16, 0.18, 0.14, 0.15, 0.01, 0.03]],\n",
       "\n",
       "       [[0.01, 0.01, 0.13, 0.13, 0.18, 0.23, 0.14, 0.15, 0.01, 0.01]],\n",
       "\n",
       "       [[0.02, 0.02, 0.13, 0.15, 0.16, 0.19, 0.16, 0.14, 0.01, 0.02]],\n",
       "\n",
       "       [[0.08, 0.03, 0.13, 0.12, 0.16, 0.16, 0.12, 0.11, 0.05, 0.04]],\n",
       "\n",
       "       [[0.03, 0.05, 0.12, 0.13, 0.16, 0.14, 0.12, 0.17, 0.03, 0.06]],\n",
       "\n",
       "       [[0.11, 0.05, 0.12, 0.15, 0.15, 0.11, 0.09, 0.11, 0.05, 0.06]],\n",
       "\n",
       "       [[0.09, 0.05, 0.13, 0.12, 0.14, 0.11, 0.11, 0.15, 0.05, 0.05]],\n",
       "\n",
       "       [[0.06, 0.06, 0.14, 0.12, 0.16, 0.14, 0.1 , 0.13, 0.04, 0.06]],\n",
       "\n",
       "       [[0.05, 0.02, 0.15, 0.12, 0.16, 0.16, 0.14, 0.14, 0.02, 0.03]],\n",
       "\n",
       "       [[0.03, 0.04, 0.13, 0.17, 0.13, 0.16, 0.13, 0.16, 0.02, 0.04]],\n",
       "\n",
       "       [[0.02, 0.02, 0.14, 0.12, 0.15, 0.2 , 0.14, 0.17, 0.01, 0.02]],\n",
       "\n",
       "       [[0.02, 0.03, 0.11, 0.15, 0.15, 0.14, 0.12, 0.18, 0.02, 0.07]],\n",
       "\n",
       "       [[0.03, 0.01, 0.16, 0.13, 0.17, 0.19, 0.18, 0.11, 0.02, 0.01]],\n",
       "\n",
       "       [[0.02, 0.02, 0.14, 0.14, 0.16, 0.2 , 0.14, 0.14, 0.02, 0.02]],\n",
       "\n",
       "       [[0.06, 0.07, 0.12, 0.12, 0.15, 0.11, 0.13, 0.12, 0.06, 0.06]],\n",
       "\n",
       "       [[0.06, 0.02, 0.14, 0.12, 0.13, 0.18, 0.14, 0.14, 0.03, 0.04]],\n",
       "\n",
       "       [[0.04, 0.04, 0.14, 0.13, 0.14, 0.16, 0.14, 0.14, 0.03, 0.04]],\n",
       "\n",
       "       [[0.02, 0.03, 0.15, 0.14, 0.15, 0.18, 0.16, 0.13, 0.01, 0.02]],\n",
       "\n",
       "       [[0.04, 0.01, 0.14, 0.13, 0.17, 0.18, 0.17, 0.12, 0.02, 0.02]],\n",
       "\n",
       "       [[0.1 , 0.06, 0.11, 0.11, 0.11, 0.1 , 0.11, 0.13, 0.05, 0.12]],\n",
       "\n",
       "       [[0.03, 0.01, 0.15, 0.12, 0.17, 0.2 , 0.15, 0.12, 0.03, 0.02]],\n",
       "\n",
       "       [[0.03, 0.02, 0.16, 0.13, 0.16, 0.17, 0.17, 0.12, 0.02, 0.02]],\n",
       "\n",
       "       [[0.06, 0.03, 0.16, 0.12, 0.15, 0.15, 0.16, 0.1 , 0.04, 0.04]],\n",
       "\n",
       "       [[0.04, 0.06, 0.12, 0.14, 0.12, 0.12, 0.13, 0.17, 0.03, 0.07]],\n",
       "\n",
       "       [[0.02, 0.01, 0.16, 0.14, 0.18, 0.16, 0.18, 0.12, 0.02, 0.02]],\n",
       "\n",
       "       [[0.06, 0.11, 0.12, 0.1 , 0.11, 0.1 , 0.11, 0.15, 0.05, 0.1 ]],\n",
       "\n",
       "       [[0.03, 0.04, 0.14, 0.15, 0.14, 0.17, 0.12, 0.15, 0.02, 0.04]],\n",
       "\n",
       "       [[0.01, 0.01, 0.15, 0.15, 0.13, 0.21, 0.19, 0.13, 0.01, 0.01]],\n",
       "\n",
       "       [[0.02, 0.01, 0.14, 0.14, 0.16, 0.2 , 0.16, 0.14, 0.02, 0.01]],\n",
       "\n",
       "       [[0.05, 0.07, 0.13, 0.14, 0.1 , 0.14, 0.09, 0.15, 0.04, 0.1 ]],\n",
       "\n",
       "       [[0.03, 0.02, 0.19, 0.14, 0.15, 0.18, 0.15, 0.11, 0.02, 0.03]]],\n",
       "      dtype=float32)"
      ]
     },
     "execution_count": 26,
     "metadata": {
      "tags": []
     },
     "output_type": "execute_result"
    }
   ],
   "source": [
    "np.round(y_prob[:, :1], 2)"
   ]
  },
  {
   "cell_type": "code",
   "execution_count": 27,
   "metadata": {
    "colab": {
     "base_uri": "https://localhost:8080/",
     "height": 52
    },
    "colab_type": "code",
    "id": "heYol0sl8Sbo",
    "outputId": "9bcbb03a-b6b2-49e2-e5fc-d59895b294e3"
   },
   "outputs": [
    {
     "data": {
      "text/plain": [
       "array([[0.04, 0.03, 0.14, 0.14, 0.15, 0.17, 0.14, 0.14, 0.02, 0.03]],\n",
       "      dtype=float32)"
      ]
     },
     "execution_count": 27,
     "metadata": {
      "tags": []
     },
     "output_type": "execute_result"
    }
   ],
   "source": [
    "np.round(y_mean[:1], 2)"
   ]
  },
  {
   "cell_type": "code",
   "execution_count": 28,
   "metadata": {
    "colab": {
     "base_uri": "https://localhost:8080/",
     "height": 52
    },
    "colab_type": "code",
    "id": "BDS46-nT8Xz4",
    "outputId": "a4485283-0240-42ab-a893-cae0285b0d6a"
   },
   "outputs": [
    {
     "data": {
      "text/plain": [
       "array([[0.02, 0.02, 0.02, 0.02, 0.02, 0.03, 0.02, 0.02, 0.01, 0.02]],\n",
       "      dtype=float32)"
      ]
     },
     "execution_count": 28,
     "metadata": {
      "tags": []
     },
     "output_type": "execute_result"
    }
   ],
   "source": [
    "y_std = y_prob.std(axis=0)\n",
    "np.round(y_std[:1], 2)"
   ]
  },
  {
   "cell_type": "code",
   "execution_count": 0,
   "metadata": {
    "colab": {},
    "colab_type": "code",
    "id": "V0U7m18Y8cuA"
   },
   "outputs": [],
   "source": [
    "y_pred = np.argmax(y_mean, axis=1)"
   ]
  },
  {
   "cell_type": "code",
   "execution_count": 30,
   "metadata": {
    "colab": {
     "base_uri": "https://localhost:8080/",
     "height": 35
    },
    "colab_type": "code",
    "id": "tgP_d3hF9SMZ",
    "outputId": "8079bfb4-620d-4c19-ac69-d29c8c0196ed"
   },
   "outputs": [
    {
     "data": {
      "text/plain": [
       "array([5, 9, 8, ..., 9, 8, 5])"
      ]
     },
     "execution_count": 30,
     "metadata": {
      "tags": []
     },
     "output_type": "execute_result"
    }
   ],
   "source": [
    "y_pred"
   ]
  },
  {
   "cell_type": "code",
   "execution_count": 31,
   "metadata": {
    "colab": {
     "base_uri": "https://localhost:8080/",
     "height": 35
    },
    "colab_type": "code",
    "id": "efXRBzhR9V14",
    "outputId": "e6fd5d6f-1bcd-47bd-ca9b-29b7ff57c2b3"
   },
   "outputs": [
    {
     "data": {
      "text/plain": [
       "array([3, 8, 8, ..., 8, 8, 3], dtype=uint8)"
      ]
     },
     "execution_count": 31,
     "metadata": {
      "tags": []
     },
     "output_type": "execute_result"
    }
   ],
   "source": [
    "y_test_shaped = y_test.reshape(len(y_pred))\n",
    "y_test_shaped"
   ]
  },
  {
   "cell_type": "code",
   "execution_count": 32,
   "metadata": {
    "colab": {
     "base_uri": "https://localhost:8080/",
     "height": 35
    },
    "colab_type": "code",
    "id": "Kuu74DsO8k46",
    "outputId": "78a2fe37-d046-4837-ec67-4a315f8e2d60"
   },
   "outputs": [
    {
     "name": "stdout",
     "output_type": "stream",
     "text": [
      "Accuracy: 0.22355555555555556\n"
     ]
    }
   ],
   "source": [
    "count = 0\n",
    "for ix in range(len(y_pred)):\n",
    "    if y_pred[ix] == y_test[ix]:\n",
    "        count += 1\n",
    "print(\"Accuracy:\", count / len(y_test))"
   ]
  },
  {
   "cell_type": "markdown",
   "metadata": {},
   "source": [
    "That's great! The accuracy boosted from 11% to 22%!"
   ]
  },
  {
   "cell_type": "markdown",
   "metadata": {
    "colab_type": "text",
    "id": "76hNOQUl-2Ce"
   },
   "source": [
    "f). Apply 1CycleScheduler and compare accuracy and speed!\n",
    "\n",
    "Note: The following code is obtained from the author's notebook. I simply applied them into my model, as per the instruction!"
   ]
  },
  {
   "cell_type": "code",
   "execution_count": 0,
   "metadata": {
    "colab": {},
    "colab_type": "code",
    "id": "UeoFIEF09OAu"
   },
   "outputs": [],
   "source": [
    "K = keras.backend\n",
    "class OneCycleScheduler(keras.callbacks.Callback):\n",
    "    def __init__(self, iterations, max_rate, start_rate=None,\n",
    "                 last_iterations=None, last_rate=None):\n",
    "        self.iterations = iterations\n",
    "        self.max_rate = max_rate\n",
    "        self.start_rate = start_rate or max_rate / 10\n",
    "        self.last_iterations = last_iterations or iterations // 10 + 1\n",
    "        self.half_iteration = (iterations - self.last_iterations) // 2\n",
    "        self.last_rate = last_rate or self.start_rate / 1000\n",
    "        self.iteration = 0\n",
    "    def _interpolate(self, iter1, iter2, rate1, rate2):\n",
    "        return ((rate2 - rate1) * (self.iteration - iter1)\n",
    "                / (iter2 - iter1) + rate1)\n",
    "    def on_batch_begin(self, batch, logs):\n",
    "        if self.iteration < self.half_iteration:\n",
    "            rate = self._interpolate(0, self.half_iteration, self.start_rate, self.max_rate)\n",
    "        elif self.iteration < 2 * self.half_iteration:\n",
    "            rate = self._interpolate(self.half_iteration, 2 * self.half_iteration,\n",
    "                                     self.max_rate, self.start_rate)\n",
    "        else:\n",
    "            rate = self._interpolate(2 * self.half_iteration, self.iterations,\n",
    "                                     self.start_rate, self.last_rate)\n",
    "            rate = max(rate, self.last_rate)\n",
    "        self.iteration += 1\n",
    "        K.set_value(self.model.optimizer.lr, rate)"
   ]
  },
  {
   "cell_type": "code",
   "execution_count": 34,
   "metadata": {
    "colab": {
     "base_uri": "https://localhost:8080/",
     "height": 242
    },
    "colab_type": "code",
    "id": "ITAVNCFj_ecK",
    "outputId": "12c74a16-f0b1-4b7d-fe04-e959ff2c0cad"
   },
   "outputs": [
    {
     "name": "stdout",
     "output_type": "stream",
     "text": [
      "Train on 18000 samples, validate on 2000 samples\n",
      "Epoch 1/15\n",
      "18000/18000 [==============================] - 11s 619us/sample - loss: 2.4479 - accuracy: 0.1020 - val_loss: 2.3740 - val_accuracy: 0.1055\n",
      "Epoch 2/15\n",
      "18000/18000 [==============================] - 8s 429us/sample - loss: 104.8880 - accuracy: 0.1003 - val_loss: 2.4343 - val_accuracy: 0.1015\n",
      "Epoch 3/15\n",
      "18000/18000 [==============================] - 8s 428us/sample - loss: 1475322903.4770 - accuracy: 0.1007 - val_loss: 3.0682 - val_accuracy: 0.0970\n",
      "Epoch 4/15\n",
      "18000/18000 [==============================] - 8s 431us/sample - loss: 551268415.5212 - accuracy: 0.1024 - val_loss: 3.1199 - val_accuracy: 0.1120\n",
      "Epoch 5/15\n",
      "18000/18000 [==============================] - 8s 437us/sample - loss: 2.6231 - accuracy: 0.0993 - val_loss: 4.0476 - val_accuracy: 0.0985\n",
      "Epoch 6/15\n",
      "18000/18000 [==============================] - 7s 415us/sample - loss: 27015587199993560.0000 - accuracy: 0.0998 - val_loss: 2.5726 - val_accuracy: 0.0985\n"
     ]
    }
   ],
   "source": [
    "model = build_model_Alpha()\n",
    "batch_size = 32\n",
    "onecycle = OneCycleScheduler(len(X_train) // batch_size * 15, max_rate=0.05)\n",
    "model.compile(loss='sparse_categorical_crossentropy', optimizer=keras.optimizers.Nadam(learning_rate=0.001), metrics=['accuracy'])\n",
    "t0 = time.time()\n",
    "history_Alpha = model.fit(X_train, y_train, epochs=15, validation_split=0.1, callbacks=[onecycle, keras.callbacks.EarlyStopping(patience=5, restore_best_weights=True)])\n",
    "t1 = time.time()\n",
    "total = t1 = t0"
   ]
  },
  {
   "cell_type": "code",
   "execution_count": 36,
   "metadata": {
    "colab": {
     "base_uri": "https://localhost:8080/",
     "height": 52
    },
    "colab_type": "code",
    "id": "mj_5Ez2D_0Ur",
    "outputId": "85964086-567a-47fd-f2cd-94bfe62fcac2"
   },
   "outputs": [
    {
     "name": "stdout",
     "output_type": "stream",
     "text": [
      "4500/4500 [==============================] - 0s 98us/sample - loss: 2.3764 - accuracy: 0.1013\n"
     ]
    },
    {
     "data": {
      "text/plain": [
       "[2.376372030046251, 0.101333335]"
      ]
     },
     "execution_count": 36,
     "metadata": {
      "tags": []
     },
     "output_type": "execute_result"
    }
   ],
   "source": [
    "model.evaluate(X_test, y_test)"
   ]
  },
  {
   "cell_type": "markdown",
   "metadata": {},
   "source": [
    "In this case, the 1Cycle Scheduler does not appear to have any improvements in terms of time and accuracy. The loss also exploded."
   ]
  }
 ],
 "metadata": {
  "accelerator": "GPU",
  "colab": {
   "collapsed_sections": [],
   "name": "Ch.11_Soln.ipynb",
   "provenance": []
  },
  "kernelspec": {
   "display_name": "Python 3",
   "language": "python",
   "name": "python3"
  },
  "language_info": {
   "codemirror_mode": {
    "name": "ipython",
    "version": 3
   },
   "file_extension": ".py",
   "mimetype": "text/x-python",
   "name": "python",
   "nbconvert_exporter": "python",
   "pygments_lexer": "ipython3",
   "version": "3.7.2"
  }
 },
 "nbformat": 4,
 "nbformat_minor": 1
}
