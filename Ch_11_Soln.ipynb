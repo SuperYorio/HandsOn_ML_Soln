{
  "nbformat": 4,
  "nbformat_minor": 0,
  "metadata": {
    "colab": {
      "name": "Ch.11_Soln.ipynb",
      "provenance": [],
      "collapsed_sections": []
    },
    "kernelspec": {
      "name": "python3",
      "display_name": "Python 3"
    },
    "accelerator": "GPU"
  },
  "cells": [
    {
      "cell_type": "markdown",
      "metadata": {
        "id": "Q3laFl8cnQ4D",
        "colab_type": "text"
      },
      "source": [
        "# #8. Train a deep neural network on the CIFAR10 Dataset"
      ]
    },
    {
      "cell_type": "markdown",
      "metadata": {
        "id": "iuz6ulhQoHuU",
        "colab_type": "text"
      },
      "source": [
        "Hello! This is SuperYorio! This Notebook is my solution to Aurelion Geron's Chapter 11 exercises! Since the solutions are not yet available, I would like to present my results with other readers! Obviously, my solution won't be as optimized as Geron's, but I hope we can learn by comparing our results!"
      ]
    },
    {
      "cell_type": "markdown",
      "metadata": {
        "id": "uCuVsVnwoKOY",
        "colab_type": "text"
      },
      "source": [
        "A few important notes:\n",
        "\n",
        "\n",
        "\n",
        "*   To save time for this exercise, I have decided to use only part of the whole dataset.\n",
        "*   I used 35 epochs for each fit with a patience of 5 for EarlyStopping. Since the point of this exercise is to compare vanilla networks with normalized networks with other various regularizers rather than trying to achieve a high accuracy.\n",
        "*   The learning rate for each architecture aren't tuned, I simply hand tweaked a few values and picked the best ones\n",
        "*   I don't think we should stress over the accuracy. We are using DNN to classify images when in reality, CNN's would work much, much better.\n",
        "*   If you are an accuracy buff, I suggest you to thoroughly tune the learning rate and train on many more epochs!"
      ]
    },
    {
      "cell_type": "code",
      "metadata": {
        "id": "nScBHbcGmjz6",
        "colab_type": "code",
        "outputId": "23ac9649-7cea-4bbf-ddf8-97c0503caf45",
        "colab": {
          "base_uri": "https://localhost:8080/",
          "height": 35
        }
      },
      "source": [
        "try:\n",
        "    %tensorflow_version 2.x\n",
        "except Exception:\n",
        "    pass\n",
        "\n",
        "# TensorFlow 2.x\n",
        "import tensorflow as tf\n",
        "from tensorflow import keras\n",
        "\n",
        "import numpy as np"
      ],
      "execution_count": 1,
      "outputs": [
        {
          "output_type": "stream",
          "text": [
            "TensorFlow 2.x selected.\n"
          ],
          "name": "stdout"
        }
      ]
    },
    {
      "cell_type": "markdown",
      "metadata": {
        "id": "TjrNhkrjnlQM",
        "colab_type": "text"
      },
      "source": [
        "a). Build a DNN with 20 hidden layers of 100 neurons each (that’s too many, but it’s the point of this exercise). Use He initialization and the ELU activation function.\n",
        "\n",
        "Note: The CIFAR10 dataset consists of 32x32 images, so we can specify our input_shape."
      ]
    },
    {
      "cell_type": "code",
      "metadata": {
        "id": "hkbP7abDnOcg",
        "colab_type": "code",
        "colab": {}
      },
      "source": [
        "def build_model(n_units=100, n_layers=20, activation='elu'):\n",
        "  model = keras.models.Sequential()\n",
        "  model.add(keras.layers.Flatten(input_shape=[32,32,3]))\n",
        "  for _ in range(n_layers):\n",
        "    model.add(keras.layers.Dense(n_units, activation, kernel_initializer=\"he_normal\"))\n",
        "  model.add(keras.layers.Dense(10, 'softmax'))\n",
        "  return model"
      ],
      "execution_count": 0,
      "outputs": []
    },
    {
      "cell_type": "markdown",
      "metadata": {
        "id": "Asb-vUQSo_Vd",
        "colab_type": "text"
      },
      "source": [
        "b). Using Nadam optimization and early stopping, train the network on the CIFAR10 dataset. You can load it with keras.datasets.cifar10.load_​data(). The dataset is composed of 60,000 32 × 32–pixel color images (50,000 for training, 10,000 for testing) with 10 classes, so you’ll need a softmax output layer with 10 neurons. Remember to search for the right learning rate each time you change the model’s architecture or hyperparameters."
      ]
    },
    {
      "cell_type": "code",
      "metadata": {
        "id": "a1xncjfgo-tN",
        "colab_type": "code",
        "colab": {}
      },
      "source": [
        "cifar = keras.datasets.cifar10.load_data()\n",
        "(X_train, y_train), (X_test, y_test) = cifar"
      ],
      "execution_count": 0,
      "outputs": []
    },
    {
      "cell_type": "code",
      "metadata": {
        "id": "SBUqi1UOwwKR",
        "colab_type": "code",
        "colab": {}
      },
      "source": [
        "train_idx = X_train.shape[0]\n",
        "test_idx = X_test.shape[0]\n",
        "train_idx = np.random.permutation(train_idx)\n",
        "test_idx = np.random.permutation(test_idx)\n",
        "X_train = X_train[train_idx][:20000]\n",
        "y_train = y_train[train_idx][:20000]\n",
        "X_test = X_test[test_idx][:4500]\n",
        "y_test = y_test[test_idx][:4500]"
      ],
      "execution_count": 0,
      "outputs": []
    },
    {
      "cell_type": "code",
      "metadata": {
        "id": "Tb9thqqdTgNc",
        "colab_type": "code",
        "colab": {}
      },
      "source": [
        "# Scale the inputs to mean 0 and standard deviation 1\n",
        "pixel_means = X_train.mean(axis=0, keepdims=True)\n",
        "pixel_stds = X_train.std(axis=0, keepdims=True)\n",
        "X_train_scale = (X_train - pixel_means) / pixel_stds\n",
        "X_test_scale = (X_test - pixel_means) / pixel_stds"
      ],
      "execution_count": 0,
      "outputs": []
    },
    {
      "cell_type": "code",
      "metadata": {
        "id": "-aKIys34fmTI",
        "colab_type": "code",
        "colab": {}
      },
      "source": [
        "X_train_scale = X_train_scale.reshape(20000, 32 * 32 * 3)\n",
        "X_test_scale = X_test_scale.reshape(4500, 32 * 32 * 3)"
      ],
      "execution_count": 0,
      "outputs": []
    },
    {
      "cell_type": "markdown",
      "metadata": {
        "id": "Kj591nvIwoIn",
        "colab_type": "text"
      },
      "source": [
        "To shorten up the training time, let's train on 20K images instead of 4.5K. Before that, let's shuffle the dataset."
      ]
    },
    {
      "cell_type": "markdown",
      "metadata": {
        "id": "-JQ__Tl1pe09",
        "colab_type": "text"
      },
      "source": [
        "Now that we have the model configurations and the dataset ready, we can compile the model."
      ]
    },
    {
      "cell_type": "code",
      "metadata": {
        "id": "pwJ1kGwdpdPb",
        "colab_type": "code",
        "outputId": "407ca288-bf87-45bf-c04b-ba9a8574190d",
        "colab": {
          "base_uri": "https://localhost:8080/",
          "height": 1000
        }
      },
      "source": [
        "import time\n",
        "\n",
        "n_epochs = 35\n",
        "model = build_model()\n",
        "model.compile(loss='sparse_categorical_crossentropy', optimizer=keras.optimizers.Nadam(), metrics=['accuracy'])\n",
        "t0 = time.time()\n",
        "history = model.fit(X_train, y_train, epochs=n_epochs, validation_split=0.1, callbacks=[keras.callbacks.EarlyStopping(patience=5, restore_best_weights=True)])\n",
        "t1 = time.time()\n",
        "total = t1 - t0"
      ],
      "execution_count": 7,
      "outputs": [
        {
          "output_type": "stream",
          "text": [
            "Train on 18000 samples, validate on 2000 samples\n",
            "Epoch 1/35\n",
            "18000/18000 [==============================] - 7s 416us/sample - loss: 8.6368 - accuracy: 0.1764 - val_loss: 2.1229 - val_accuracy: 0.2000\n",
            "Epoch 2/35\n",
            "18000/18000 [==============================] - 5s 286us/sample - loss: 2.0512 - accuracy: 0.2475 - val_loss: 1.9840 - val_accuracy: 0.2555\n",
            "Epoch 3/35\n",
            "18000/18000 [==============================] - 5s 286us/sample - loss: 1.9885 - accuracy: 0.2731 - val_loss: 1.9362 - val_accuracy: 0.3095\n",
            "Epoch 4/35\n",
            "18000/18000 [==============================] - 5s 297us/sample - loss: 1.9308 - accuracy: 0.2974 - val_loss: 2.0572 - val_accuracy: 0.2605\n",
            "Epoch 5/35\n",
            "18000/18000 [==============================] - 5s 291us/sample - loss: 1.9034 - accuracy: 0.3067 - val_loss: 1.9744 - val_accuracy: 0.2910\n",
            "Epoch 6/35\n",
            "18000/18000 [==============================] - 5s 288us/sample - loss: 1.8783 - accuracy: 0.3147 - val_loss: 1.9849 - val_accuracy: 0.2850\n",
            "Epoch 7/35\n",
            "18000/18000 [==============================] - 5s 282us/sample - loss: 1.8429 - accuracy: 0.3251 - val_loss: 1.9169 - val_accuracy: 0.2870\n",
            "Epoch 8/35\n",
            "18000/18000 [==============================] - 5s 283us/sample - loss: 1.8370 - accuracy: 0.3351 - val_loss: 1.8028 - val_accuracy: 0.3555\n",
            "Epoch 9/35\n",
            "18000/18000 [==============================] - 5s 287us/sample - loss: 1.8200 - accuracy: 0.3410 - val_loss: 1.8782 - val_accuracy: 0.3075\n",
            "Epoch 10/35\n",
            "18000/18000 [==============================] - 5s 288us/sample - loss: 1.8196 - accuracy: 0.3378 - val_loss: 1.8150 - val_accuracy: 0.3465\n",
            "Epoch 11/35\n",
            "18000/18000 [==============================] - 5s 282us/sample - loss: 1.8053 - accuracy: 0.3506 - val_loss: 1.8280 - val_accuracy: 0.3400\n",
            "Epoch 12/35\n",
            "18000/18000 [==============================] - 5s 287us/sample - loss: 1.8350 - accuracy: 0.3293 - val_loss: 1.7754 - val_accuracy: 0.3580\n",
            "Epoch 13/35\n",
            "18000/18000 [==============================] - 5s 283us/sample - loss: 1.7863 - accuracy: 0.3481 - val_loss: 1.8073 - val_accuracy: 0.3615\n",
            "Epoch 14/35\n",
            "18000/18000 [==============================] - 5s 289us/sample - loss: 1.7914 - accuracy: 0.3491 - val_loss: 1.8452 - val_accuracy: 0.3580\n",
            "Epoch 15/35\n",
            "18000/18000 [==============================] - 5s 303us/sample - loss: 1.7884 - accuracy: 0.3502 - val_loss: 1.8226 - val_accuracy: 0.3335\n",
            "Epoch 16/35\n",
            "18000/18000 [==============================] - 5s 286us/sample - loss: 1.7622 - accuracy: 0.3597 - val_loss: 1.7850 - val_accuracy: 0.3485\n",
            "Epoch 17/35\n",
            "18000/18000 [==============================] - 5s 284us/sample - loss: 1.7462 - accuracy: 0.3656 - val_loss: 1.7741 - val_accuracy: 0.3490\n",
            "Epoch 18/35\n",
            "18000/18000 [==============================] - 5s 284us/sample - loss: 1.7403 - accuracy: 0.3681 - val_loss: 1.8934 - val_accuracy: 0.3250\n",
            "Epoch 19/35\n",
            "18000/18000 [==============================] - 5s 285us/sample - loss: 1.7319 - accuracy: 0.3685 - val_loss: 1.7444 - val_accuracy: 0.3625\n",
            "Epoch 20/35\n",
            "18000/18000 [==============================] - 5s 292us/sample - loss: 1.7200 - accuracy: 0.3723 - val_loss: 1.7891 - val_accuracy: 0.3705\n",
            "Epoch 21/35\n",
            "18000/18000 [==============================] - 5s 286us/sample - loss: 1.7067 - accuracy: 0.3854 - val_loss: 1.7639 - val_accuracy: 0.3680\n",
            "Epoch 22/35\n",
            "18000/18000 [==============================] - 5s 290us/sample - loss: 1.6988 - accuracy: 0.3845 - val_loss: 1.7478 - val_accuracy: 0.3765\n",
            "Epoch 23/35\n",
            "18000/18000 [==============================] - 5s 290us/sample - loss: 1.6936 - accuracy: 0.3898 - val_loss: 1.7039 - val_accuracy: 0.4010\n",
            "Epoch 24/35\n",
            "18000/18000 [==============================] - 5s 282us/sample - loss: 1.6883 - accuracy: 0.3862 - val_loss: 1.7261 - val_accuracy: 0.3785\n",
            "Epoch 25/35\n",
            "18000/18000 [==============================] - 5s 285us/sample - loss: 1.6721 - accuracy: 0.3917 - val_loss: 1.7323 - val_accuracy: 0.3640\n",
            "Epoch 26/35\n",
            "18000/18000 [==============================] - 5s 283us/sample - loss: 1.6769 - accuracy: 0.3886 - val_loss: 1.7423 - val_accuracy: 0.3785\n",
            "Epoch 27/35\n",
            "18000/18000 [==============================] - 5s 294us/sample - loss: 1.6650 - accuracy: 0.3903 - val_loss: 1.7858 - val_accuracy: 0.3660\n",
            "Epoch 28/35\n",
            "18000/18000 [==============================] - 5s 284us/sample - loss: 1.6549 - accuracy: 0.4028 - val_loss: 1.7312 - val_accuracy: 0.3930\n"
          ],
          "name": "stdout"
        }
      ]
    },
    {
      "cell_type": "code",
      "metadata": {
        "id": "R_ThE_jDBwR-",
        "colab_type": "code",
        "outputId": "697b1337-00ef-4624-e104-86f9ee3a17a9",
        "colab": {
          "base_uri": "https://localhost:8080/",
          "height": 35
        }
      },
      "source": [
        "print(\"Time Spanned:\", np.round(total, 2))"
      ],
      "execution_count": 8,
      "outputs": [
        {
          "output_type": "stream",
          "text": [
            "Time Spanned: 147.33\n"
          ],
          "name": "stdout"
        }
      ]
    },
    {
      "cell_type": "code",
      "metadata": {
        "id": "_LWjXz8QJFLz",
        "colab_type": "code",
        "outputId": "3a67dad3-3537-42f7-d4bb-ee0fcde065a2",
        "colab": {
          "base_uri": "https://localhost:8080/",
          "height": 52
        }
      },
      "source": [
        "model.evaluate(X_test, y_test)"
      ],
      "execution_count": 9,
      "outputs": [
        {
          "output_type": "stream",
          "text": [
            "4500/4500 [==============================] - 0s 75us/sample - loss: 1.6966 - accuracy: 0.3916\n"
          ],
          "name": "stdout"
        },
        {
          "output_type": "execute_result",
          "data": {
            "text/plain": [
              "[1.6965912618637085, 0.39155555]"
            ]
          },
          "metadata": {
            "tags": []
          },
          "execution_count": 9
        }
      ]
    },
    {
      "cell_type": "markdown",
      "metadata": {
        "id": "Jzfva36asTYZ",
        "colab_type": "text"
      },
      "source": [
        "c). Now try adding Batch Normalization and compare the learning curves: Is it converging faster than before? Does it produce a better model? How does it affect training speed?"
      ]
    },
    {
      "cell_type": "code",
      "metadata": {
        "id": "IkGv0K2ZrQel",
        "colab_type": "code",
        "colab": {}
      },
      "source": [
        "def build_model_w_BN(n_units=100, n_layers=20, activation='elu'):\n",
        "  model = keras.models.Sequential()\n",
        "  model.add(keras.layers.Flatten(input_shape=[32,32,3]))\n",
        "  model.add(keras.layers.BatchNormalization(momentum=0.9))\n",
        "  for _ in range(n_layers):\n",
        "    model.add(keras.layers.Dense(n_units, activation, kernel_initializer=\"he_normal\"))\n",
        "    model.add(keras.layers.BatchNormalization(momentum=0.9))\n",
        "  model.add(keras.layers.Dense(10, 'softmax'))\n",
        "  return model"
      ],
      "execution_count": 0,
      "outputs": []
    },
    {
      "cell_type": "code",
      "metadata": {
        "id": "51M4Y62lstzT",
        "colab_type": "code",
        "outputId": "035b6443-6dde-46e4-d198-801148e45b95",
        "colab": {
          "base_uri": "https://localhost:8080/",
          "height": 760
        }
      },
      "source": [
        "model = build_model_w_BN()\n",
        "model.compile(loss='sparse_categorical_crossentropy', optimizer=keras.optimizers.Nadam(learning_rate=0.0025), metrics=['accuracy'])\n",
        "t0 = time.time()\n",
        "history_w_BN = model.fit(X_train, y_train, epochs=n_epochs, validation_split=0.1, callbacks=[keras.callbacks.EarlyStopping(patience=5, restore_best_weights=True)])\n",
        "t1 = time.time()\n",
        "total = t1 - t0"
      ],
      "execution_count": 11,
      "outputs": [
        {
          "output_type": "stream",
          "text": [
            "Train on 18000 samples, validate on 2000 samples\n",
            "Epoch 1/35\n",
            "18000/18000 [==============================] - 21s 1ms/sample - loss: 2.0283 - accuracy: 0.2697 - val_loss: 1.8192 - val_accuracy: 0.3550\n",
            "Epoch 2/35\n",
            "18000/18000 [==============================] - 14s 800us/sample - loss: 1.8325 - accuracy: 0.3412 - val_loss: 1.7831 - val_accuracy: 0.3410\n",
            "Epoch 3/35\n",
            "18000/18000 [==============================] - 14s 795us/sample - loss: 1.7652 - accuracy: 0.3693 - val_loss: 1.6911 - val_accuracy: 0.3885\n",
            "Epoch 4/35\n",
            "18000/18000 [==============================] - 14s 798us/sample - loss: 1.7233 - accuracy: 0.3823 - val_loss: 1.6372 - val_accuracy: 0.4010\n",
            "Epoch 5/35\n",
            "18000/18000 [==============================] - 14s 784us/sample - loss: 1.6703 - accuracy: 0.3991 - val_loss: 1.6039 - val_accuracy: 0.4170\n",
            "Epoch 6/35\n",
            "18000/18000 [==============================] - 14s 797us/sample - loss: 1.6332 - accuracy: 0.4194 - val_loss: 1.6311 - val_accuracy: 0.4065\n",
            "Epoch 7/35\n",
            "18000/18000 [==============================] - 14s 799us/sample - loss: 1.6124 - accuracy: 0.4274 - val_loss: 1.5736 - val_accuracy: 0.4465\n",
            "Epoch 8/35\n",
            "18000/18000 [==============================] - 14s 798us/sample - loss: 1.5819 - accuracy: 0.4397 - val_loss: 1.5669 - val_accuracy: 0.4480\n",
            "Epoch 9/35\n",
            "18000/18000 [==============================] - 14s 792us/sample - loss: 1.5543 - accuracy: 0.4488 - val_loss: 1.6120 - val_accuracy: 0.4235\n",
            "Epoch 10/35\n",
            "18000/18000 [==============================] - 15s 810us/sample - loss: 1.5224 - accuracy: 0.4609 - val_loss: 1.5300 - val_accuracy: 0.4620\n",
            "Epoch 11/35\n",
            "18000/18000 [==============================] - 15s 807us/sample - loss: 1.4924 - accuracy: 0.4736 - val_loss: 1.5317 - val_accuracy: 0.4675\n",
            "Epoch 12/35\n",
            "18000/18000 [==============================] - 15s 806us/sample - loss: 1.4674 - accuracy: 0.4844 - val_loss: 1.5266 - val_accuracy: 0.4530\n",
            "Epoch 13/35\n",
            "18000/18000 [==============================] - 14s 792us/sample - loss: 1.4451 - accuracy: 0.4898 - val_loss: 1.5351 - val_accuracy: 0.4580\n",
            "Epoch 14/35\n",
            "18000/18000 [==============================] - 15s 821us/sample - loss: 1.4128 - accuracy: 0.5007 - val_loss: 1.5857 - val_accuracy: 0.4530\n",
            "Epoch 15/35\n",
            "18000/18000 [==============================] - 14s 804us/sample - loss: 1.3862 - accuracy: 0.5103 - val_loss: 1.5370 - val_accuracy: 0.4650\n",
            "Epoch 16/35\n",
            "18000/18000 [==============================] - 14s 804us/sample - loss: 1.3660 - accuracy: 0.5231 - val_loss: 1.4698 - val_accuracy: 0.4790\n",
            "Epoch 17/35\n",
            "18000/18000 [==============================] - 14s 801us/sample - loss: 1.3362 - accuracy: 0.5326 - val_loss: 1.5141 - val_accuracy: 0.4800\n",
            "Epoch 18/35\n",
            "18000/18000 [==============================] - 14s 802us/sample - loss: 1.3158 - accuracy: 0.5370 - val_loss: 1.5147 - val_accuracy: 0.4800\n",
            "Epoch 19/35\n",
            "18000/18000 [==============================] - 14s 791us/sample - loss: 1.2951 - accuracy: 0.5432 - val_loss: 1.4947 - val_accuracy: 0.4995\n",
            "Epoch 20/35\n",
            "18000/18000 [==============================] - 14s 793us/sample - loss: 1.2677 - accuracy: 0.5593 - val_loss: 1.5014 - val_accuracy: 0.4835\n",
            "Epoch 21/35\n",
            "18000/18000 [==============================] - 14s 773us/sample - loss: 1.2408 - accuracy: 0.5692 - val_loss: 1.5168 - val_accuracy: 0.4730\n"
          ],
          "name": "stdout"
        }
      ]
    },
    {
      "cell_type": "code",
      "metadata": {
        "id": "LX3qgemRCDgz",
        "colab_type": "code",
        "outputId": "f60d03ef-0073-4b59-aab7-303db15fc95d",
        "colab": {
          "base_uri": "https://localhost:8080/",
          "height": 35
        }
      },
      "source": [
        "print(\"Time Spanned for BN:\", np.round(total, 2))"
      ],
      "execution_count": 12,
      "outputs": [
        {
          "output_type": "stream",
          "text": [
            "Time Spanned for BN: 308.48\n"
          ],
          "name": "stdout"
        }
      ]
    },
    {
      "cell_type": "code",
      "metadata": {
        "id": "Pr4GMDunJLAI",
        "colab_type": "code",
        "outputId": "e69a7d0a-e1a9-458a-c828-05465d8033ce",
        "colab": {
          "base_uri": "https://localhost:8080/",
          "height": 52
        }
      },
      "source": [
        "model.evaluate(X_test, y_test)"
      ],
      "execution_count": 13,
      "outputs": [
        {
          "output_type": "stream",
          "text": [
            "4500/4500 [==============================] - 1s 117us/sample - loss: 1.5137 - accuracy: 0.4760\n"
          ],
          "name": "stdout"
        },
        {
          "output_type": "execute_result",
          "data": {
            "text/plain": [
              "[1.5137277109358045, 0.476]"
            ]
          },
          "metadata": {
            "tags": []
          },
          "execution_count": 13
        }
      ]
    },
    {
      "cell_type": "code",
      "metadata": {
        "id": "n38azDKEs1-9",
        "colab_type": "code",
        "outputId": "f9484499-998b-4db5-99ac-87a17923e4a7",
        "colab": {
          "base_uri": "https://localhost:8080/",
          "height": 337
        }
      },
      "source": [
        "import pandas as pd\n",
        "import matplotlib as mpl\n",
        "import matplotlib.pyplot as plt\n",
        "\n",
        "def plot_learning_curve(history):\n",
        "  pd.DataFrame(history.history).plot(figsize=(8, 5))\n",
        "\n",
        "print(\"Learning Curve for Model without BN:\")\n",
        "plot_learning_curve(history)"
      ],
      "execution_count": 14,
      "outputs": [
        {
          "output_type": "stream",
          "text": [
            "Learning Curve for Model without BN:\n"
          ],
          "name": "stdout"
        },
        {
          "output_type": "display_data",
          "data": {
            "image/png": "[encoded data removed]",
            "text/plain": [
              "<Figure size 576x360 with 1 Axes>"
            ]
          },
          "metadata": {
            "tags": []
          }
        }
      ]
    },
    {
      "cell_type": "code",
      "metadata": {
        "id": "oBXO15U5vWfZ",
        "colab_type": "code",
        "outputId": "4649367d-3a2e-4d73-ae78-ce1a85d6e680",
        "colab": {
          "base_uri": "https://localhost:8080/",
          "height": 337
        }
      },
      "source": [
        "print(\"Learning Curve for Model with BN:\")\n",
        "plot_learning_curve(history_w_BN)"
      ],
      "execution_count": 15,
      "outputs": [
        {
          "output_type": "stream",
          "text": [
            "Learning Curve for Model with BN:\n"
          ],
          "name": "stdout"
        },
        {
          "output_type": "display_data",
          "data": {
            "image/png": "[encoded data removed]",
            "text/plain": [
              "<Figure size 576x360 with 1 Axes>"
            ]
          },
          "metadata": {
            "tags": []
          }
        }
      ]
    },
    {
      "cell_type": "markdown",
      "metadata": {
        "id": "7FtbOsbfwCKG",
        "colab_type": "text"
      },
      "source": [
        "d). Try replacing Batch Normalization with SELU, and make the necessary adjustements to ensure the network self-normalizes (i.e., standardize the input features, use LeCun normal initialization, make sure the DNN contains only a sequence of dense layers, etc.)."
      ]
    },
    {
      "cell_type": "code",
      "metadata": {
        "id": "wYd050pzwBj6",
        "colab_type": "code",
        "colab": {}
      },
      "source": [
        "def build_model_SN(n_units=100, n_layers=20, activation='selu'):\n",
        "  model = keras.models.Sequential()\n",
        "  for _ in range(n_layers):\n",
        "    model.add(keras.layers.Dense(n_units, activation, kernel_initializer=\"lecun_normal\"))\n",
        "  model.add(keras.layers.Dense(10, 'softmax'))\n",
        "  return model"
      ],
      "execution_count": 0,
      "outputs": []
    },
    {
      "cell_type": "code",
      "metadata": {
        "id": "1w6wRcy4vr7c",
        "colab_type": "code",
        "outputId": "8fa8ec31-e1c2-476e-dce5-434ebc0ea28d",
        "colab": {
          "base_uri": "https://localhost:8080/",
          "height": 587
        }
      },
      "source": [
        "model = build_model_SN()\n",
        "model.compile(loss='sparse_categorical_crossentropy', optimizer=keras.optimizers.Nadam(learning_rate=0.001), metrics=['accuracy'])\n",
        "t0 = time.time()\n",
        "history_SN = model.fit(X_train_scale, y_train, epochs=n_epochs, validation_split=0.1, callbacks=[keras.callbacks.EarlyStopping(patience=5, restore_best_weights=True)])\n",
        "t1 = time.time()\n",
        "total = t1 - t0"
      ],
      "execution_count": 17,
      "outputs": [
        {
          "output_type": "stream",
          "text": [
            "Train on 18000 samples, validate on 2000 samples\n",
            "Epoch 1/35\n",
            "18000/18000 [==============================] - 8s 440us/sample - loss: 2.1276 - accuracy: 0.2327 - val_loss: 2.0255 - val_accuracy: 0.2470\n",
            "Epoch 2/35\n",
            "18000/18000 [==============================] - 5s 299us/sample - loss: 1.9158 - accuracy: 0.3028 - val_loss: 1.9116 - val_accuracy: 0.2930\n",
            "Epoch 3/35\n",
            "18000/18000 [==============================] - 5s 292us/sample - loss: 1.8305 - accuracy: 0.3432 - val_loss: 1.8486 - val_accuracy: 0.3425\n",
            "Epoch 4/35\n",
            "18000/18000 [==============================] - 5s 296us/sample - loss: 1.7562 - accuracy: 0.3724 - val_loss: 1.7550 - val_accuracy: 0.3525\n",
            "Epoch 5/35\n",
            "18000/18000 [==============================] - 5s 287us/sample - loss: 1.6936 - accuracy: 0.3976 - val_loss: 1.7294 - val_accuracy: 0.3805\n",
            "Epoch 6/35\n",
            "18000/18000 [==============================] - 5s 292us/sample - loss: 1.6477 - accuracy: 0.4120 - val_loss: 1.7041 - val_accuracy: 0.4000\n",
            "Epoch 7/35\n",
            "18000/18000 [==============================] - 5s 299us/sample - loss: 1.6013 - accuracy: 0.4353 - val_loss: 1.6923 - val_accuracy: 0.4035\n",
            "Epoch 8/35\n",
            "18000/18000 [==============================] - 6s 310us/sample - loss: 1.5671 - accuracy: 0.4444 - val_loss: 1.6648 - val_accuracy: 0.4150\n",
            "Epoch 9/35\n",
            "18000/18000 [==============================] - 5s 295us/sample - loss: 1.5278 - accuracy: 0.4575 - val_loss: 1.6908 - val_accuracy: 0.3810\n",
            "Epoch 10/35\n",
            "18000/18000 [==============================] - 5s 301us/sample - loss: 1.4969 - accuracy: 0.4711 - val_loss: 1.6782 - val_accuracy: 0.4365\n",
            "Epoch 11/35\n",
            "18000/18000 [==============================] - 5s 304us/sample - loss: 1.4659 - accuracy: 0.4826 - val_loss: 1.6197 - val_accuracy: 0.4500\n",
            "Epoch 12/35\n",
            "18000/18000 [==============================] - 6s 306us/sample - loss: 1.4323 - accuracy: 0.4972 - val_loss: 1.6515 - val_accuracy: 0.4235\n",
            "Epoch 13/35\n",
            "18000/18000 [==============================] - 5s 304us/sample - loss: 1.4038 - accuracy: 0.5093 - val_loss: 1.6347 - val_accuracy: 0.4390\n",
            "Epoch 14/35\n",
            "18000/18000 [==============================] - 5s 302us/sample - loss: 1.3654 - accuracy: 0.5188 - val_loss: 1.6621 - val_accuracy: 0.4320\n",
            "Epoch 15/35\n",
            "18000/18000 [==============================] - 5s 303us/sample - loss: 1.3479 - accuracy: 0.5257 - val_loss: 1.6427 - val_accuracy: 0.4385\n",
            "Epoch 16/35\n",
            "18000/18000 [==============================] - 5s 297us/sample - loss: 1.3334 - accuracy: 0.5307 - val_loss: 1.6473 - val_accuracy: 0.4265\n"
          ],
          "name": "stdout"
        }
      ]
    },
    {
      "cell_type": "code",
      "metadata": {
        "id": "GLEiW51tCQGD",
        "colab_type": "code",
        "outputId": "07e9ffa9-f0ca-4d0f-ac59-d82947274de5",
        "colab": {
          "base_uri": "https://localhost:8080/",
          "height": 35
        }
      },
      "source": [
        "print(\"Time Spanned for SN:\", np.round(total, 2))"
      ],
      "execution_count": 18,
      "outputs": [
        {
          "output_type": "stream",
          "text": [
            "Time Spanned for SN: 88.96\n"
          ],
          "name": "stdout"
        }
      ]
    },
    {
      "cell_type": "code",
      "metadata": {
        "id": "f9bf62oKJMSw",
        "colab_type": "code",
        "outputId": "cf812a1c-b2fe-4413-e624-a0e14182ce12",
        "colab": {
          "base_uri": "https://localhost:8080/",
          "height": 52
        }
      },
      "source": [
        "model.evaluate(X_test_scale, y_test)"
      ],
      "execution_count": 19,
      "outputs": [
        {
          "output_type": "stream",
          "text": [
            "4500/4500 [==============================] - 0s 88us/sample - loss: 1.6466 - accuracy: 0.4347\n"
          ],
          "name": "stdout"
        },
        {
          "output_type": "execute_result",
          "data": {
            "text/plain": [
              "[1.6465711261961196, 0.43466666]"
            ]
          },
          "metadata": {
            "tags": []
          },
          "execution_count": 19
        }
      ]
    },
    {
      "cell_type": "code",
      "metadata": {
        "id": "AzvL2f4dwdyn",
        "colab_type": "code",
        "outputId": "75a33838-5285-4168-ee50-8a6a3d83553f",
        "colab": {
          "base_uri": "https://localhost:8080/",
          "height": 337
        }
      },
      "source": [
        "print(\"Learning Curve for SN Model:\")\n",
        "plot_learning_curve(history_SN)"
      ],
      "execution_count": 20,
      "outputs": [
        {
          "output_type": "stream",
          "text": [
            "Learning Curve for SN Model:\n"
          ],
          "name": "stdout"
        },
        {
          "output_type": "display_data",
          "data": {
            "image/png": "[encoded data removed]",
            "text/plain": [
              "<Figure size 576x360 with 1 Axes>"
            ]
          },
          "metadata": {
            "tags": []
          }
        }
      ]
    },
    {
      "cell_type": "markdown",
      "metadata": {
        "id": "Ml3A_OB-zjgQ",
        "colab_type": "text"
      },
      "source": [
        "Now that we have finished training 3 different neural networks, we can see that neural networks with Batch Normalization and self-normalization has faster training speed in the sense that it reaches higher accuracy faster than the neural network without any normalization."
      ]
    },
    {
      "cell_type": "markdown",
      "metadata": {
        "id": "xdkDUG4v0Dgo",
        "colab_type": "text"
      },
      "source": [
        "e). Try regularizing the model with alpha dropout. Then, without retraining your model, see if you can achieve better accuracy using MC Dropout."
      ]
    },
    {
      "cell_type": "code",
      "metadata": {
        "id": "12dp-hz6zduV",
        "colab_type": "code",
        "colab": {}
      },
      "source": [
        "def build_model_Alpha(n_units=100, n_layers=20, activation='elu'):\n",
        "  model = keras.models.Sequential()\n",
        "  for _ in range(n_layers):\n",
        "    model.add(keras.layers.Dense(n_units, activation, kernel_initializer=\"he_normal\"))\n",
        "    model.add(keras.layers.AlphaDropout(rate=0.5))\n",
        "  model.add(keras.layers.Dense(10, 'softmax'))\n",
        "  return model"
      ],
      "execution_count": 0,
      "outputs": []
    },
    {
      "cell_type": "code",
      "metadata": {
        "id": "lKZGBJtW28XM",
        "colab_type": "code",
        "outputId": "a35d5fdb-8263-41ed-f4fd-c0e086d734bb",
        "colab": {
          "base_uri": "https://localhost:8080/",
          "height": 262
        }
      },
      "source": [
        "model = build_model_Alpha()\n",
        "model.compile(loss='sparse_categorical_crossentropy', optimizer=keras.optimizers.Nadam(learning_rate=0.001), metrics=['accuracy'])\n",
        "t0 = time.time()\n",
        "history_Alpha = model.fit(X_train_scale, y_train, epochs=n_epochs, validation_split=0.1, callbacks=[keras.callbacks.EarlyStopping(patience=5, restore_best_weights=True)])\n",
        "t1 = time.time()\n",
        "total = t1 - t0"
      ],
      "execution_count": 22,
      "outputs": [
        {
          "output_type": "stream",
          "text": [
            "Train on 18000 samples, validate on 2000 samples\n",
            "Epoch 1/35\n",
            "18000/18000 [==============================] - 9s 517us/sample - loss: 2.7548 - accuracy: 0.1007 - val_loss: 8.2203 - val_accuracy: 0.0915\n",
            "Epoch 2/35\n",
            "18000/18000 [==============================] - 6s 350us/sample - loss: 2.3796 - accuracy: 0.1051 - val_loss: 2106.1529 - val_accuracy: 0.0950\n",
            "Epoch 3/35\n",
            "18000/18000 [==============================] - 6s 345us/sample - loss: 2.3185 - accuracy: 0.1086 - val_loss: 53585.5188 - val_accuracy: 0.1055\n",
            "Epoch 4/35\n",
            "18000/18000 [==============================] - 6s 346us/sample - loss: 2.2514 - accuracy: 0.1344 - val_loss: 302673.2263 - val_accuracy: 0.0915\n",
            "Epoch 5/35\n",
            "18000/18000 [==============================] - 6s 347us/sample - loss: 2.1841 - accuracy: 0.1587 - val_loss: 77330.8544 - val_accuracy: 0.1045\n",
            "Epoch 6/35\n",
            "18000/18000 [==============================] - 6s 348us/sample - loss: 2.1288 - accuracy: 0.1604 - val_loss: 63023.5456 - val_accuracy: 0.1055\n"
          ],
          "name": "stdout"
        }
      ]
    },
    {
      "cell_type": "code",
      "metadata": {
        "id": "kJT0mYdGCYEj",
        "colab_type": "code",
        "outputId": "c03b9f43-9d49-43f3-8f05-d7533147e38f",
        "colab": {
          "base_uri": "https://localhost:8080/",
          "height": 35
        }
      },
      "source": [
        "print(\"Time Spanned for Dropout:\", np.round(total, 2))"
      ],
      "execution_count": 23,
      "outputs": [
        {
          "output_type": "stream",
          "text": [
            "Time Spanned for Dropout: 41.01\n"
          ],
          "name": "stdout"
        }
      ]
    },
    {
      "cell_type": "code",
      "metadata": {
        "id": "EFk4kIv5JNc6",
        "colab_type": "code",
        "outputId": "1b53d80a-b620-4b19-827f-e0f8e38b49a0",
        "colab": {
          "base_uri": "https://localhost:8080/",
          "height": 52
        }
      },
      "source": [
        "model.evaluate(X_test_scale, y_test)"
      ],
      "execution_count": 24,
      "outputs": [
        {
          "output_type": "stream",
          "text": [
            "4500/4500 [==============================] - 0s 89us/sample - loss: 8.0969 - accuracy: 0.1040\n"
          ],
          "name": "stdout"
        },
        {
          "output_type": "execute_result",
          "data": {
            "text/plain": [
              "[8.096949644300672, 0.104]"
            ]
          },
          "metadata": {
            "tags": []
          },
          "execution_count": 24
        }
      ]
    },
    {
      "cell_type": "code",
      "metadata": {
        "id": "Hl4ZH_1p3AAX",
        "colab_type": "code",
        "outputId": "24a4b9a2-7557-422a-e7f1-44f1135ff511",
        "colab": {
          "base_uri": "https://localhost:8080/",
          "height": 337
        }
      },
      "source": [
        "print(\"Learning Curve for Model with Alpha Dropout:\")\n",
        "plot_learning_curve(history_Alpha)"
      ],
      "execution_count": 25,
      "outputs": [
        {
          "output_type": "stream",
          "text": [
            "Learning Curve for Model with Alpha Dropout:\n"
          ],
          "name": "stdout"
        },
        {
          "output_type": "display_data",
          "data": {
            "image/png": "[encoded data removed]",
            "text/plain": [
              "<Figure size 576x360 with 1 Axes>"
            ]
          },
          "metadata": {
            "tags": []
          }
        }
      ]
    },
    {
      "cell_type": "markdown",
      "metadata": {
        "id": "JyrfdRMh5lz7",
        "colab_type": "text"
      },
      "source": [
        "The learning curve is obviously wacky. I think the main issue lies in that it's not optimized enough and the hyperparameters are not tuned. Also, keep in mind that the data is shortened for the sake of computational time."
      ]
    },
    {
      "cell_type": "markdown",
      "metadata": {
        "id": "pUvOLJgs6LQq",
        "colab_type": "text"
      },
      "source": [
        "Let's apply MC Dropout!"
      ]
    },
    {
      "cell_type": "code",
      "metadata": {
        "id": "2GdQtnDJ4Pts",
        "colab_type": "code",
        "colab": {}
      },
      "source": [
        "X_test_mod = tf.dtypes.cast(X_test_scale, tf.float32)\n",
        "y_prob = np.stack([model(X_test_mod, training=True) for sample in range(100)])\n",
        "y_mean = y_prob.mean(axis=0)\n",
        "y_std = y_prob.std(axis=0)"
      ],
      "execution_count": 0,
      "outputs": []
    },
    {
      "cell_type": "code",
      "metadata": {
        "id": "QxraVuTx7tof",
        "colab_type": "code",
        "outputId": "c4f73107-2e14-4249-d535-d5b495563fd0",
        "colab": {
          "base_uri": "https://localhost:8080/",
          "height": 35
        }
      },
      "source": [
        "np.round(model.predict(X_test_scale[:1]), 2)"
      ],
      "execution_count": 27,
      "outputs": [
        {
          "output_type": "execute_result",
          "data": {
            "text/plain": [
              "array([[0., 0., 0., 0., 0., 0., 1., 0., 0., 0.]], dtype=float32)"
            ]
          },
          "metadata": {
            "tags": []
          },
          "execution_count": 27
        }
      ]
    },
    {
      "cell_type": "code",
      "metadata": {
        "id": "S8TjY-wa8PvW",
        "colab_type": "code",
        "outputId": "6c9d0a93-38f2-45e6-f79e-0fa202ad20c7",
        "colab": {
          "base_uri": "https://localhost:8080/",
          "height": 1000
        }
      },
      "source": [
        "np.round(y_prob[:, :1], 2)"
      ],
      "execution_count": 28,
      "outputs": [
        {
          "output_type": "execute_result",
          "data": {
            "text/plain": [
              "array([[[0.07, 0.07, 0.08, 0.06, 0.11, 0.23, 0.13, 0.06, 0.05, 0.14]],\n",
              "\n",
              "       [[0.09, 0.1 , 0.1 , 0.04, 0.11, 0.09, 0.12, 0.11, 0.13, 0.1 ]],\n",
              "\n",
              "       [[0.1 , 0.05, 0.1 , 0.25, 0.04, 0.16, 0.16, 0.06, 0.04, 0.05]],\n",
              "\n",
              "       [[0.1 , 0.07, 0.12, 0.05, 0.31, 0.04, 0.06, 0.1 , 0.04, 0.12]],\n",
              "\n",
              "       [[0.24, 0.09, 0.04, 0.13, 0.03, 0.1 , 0.14, 0.08, 0.05, 0.11]],\n",
              "\n",
              "       [[0.07, 0.21, 0.07, 0.08, 0.05, 0.13, 0.17, 0.07, 0.03, 0.13]],\n",
              "\n",
              "       [[0.11, 0.07, 0.12, 0.16, 0.1 , 0.12, 0.06, 0.06, 0.12, 0.08]],\n",
              "\n",
              "       [[0.11, 0.09, 0.08, 0.11, 0.13, 0.06, 0.07, 0.15, 0.09, 0.11]],\n",
              "\n",
              "       [[0.07, 0.07, 0.06, 0.07, 0.05, 0.2 , 0.06, 0.15, 0.18, 0.09]],\n",
              "\n",
              "       [[0.06, 0.05, 0.1 , 0.02, 0.28, 0.1 , 0.08, 0.09, 0.02, 0.2 ]],\n",
              "\n",
              "       [[0.05, 0.05, 0.19, 0.08, 0.08, 0.03, 0.04, 0.3 , 0.07, 0.1 ]],\n",
              "\n",
              "       [[0.07, 0.22, 0.06, 0.08, 0.13, 0.07, 0.03, 0.06, 0.12, 0.18]],\n",
              "\n",
              "       [[0.17, 0.04, 0.08, 0.05, 0.1 , 0.04, 0.18, 0.19, 0.09, 0.07]],\n",
              "\n",
              "       [[0.06, 0.07, 0.19, 0.08, 0.06, 0.27, 0.04, 0.07, 0.08, 0.07]],\n",
              "\n",
              "       [[0.21, 0.04, 0.05, 0.1 , 0.14, 0.06, 0.14, 0.06, 0.14, 0.06]],\n",
              "\n",
              "       [[0.2 , 0.07, 0.14, 0.02, 0.13, 0.04, 0.04, 0.23, 0.05, 0.09]],\n",
              "\n",
              "       [[0.1 , 0.27, 0.06, 0.04, 0.1 , 0.16, 0.06, 0.07, 0.06, 0.09]],\n",
              "\n",
              "       [[0.09, 0.12, 0.06, 0.11, 0.07, 0.05, 0.06, 0.07, 0.07, 0.3 ]],\n",
              "\n",
              "       [[0.08, 0.25, 0.13, 0.11, 0.07, 0.1 , 0.03, 0.04, 0.07, 0.12]],\n",
              "\n",
              "       [[0.09, 0.09, 0.13, 0.07, 0.05, 0.16, 0.09, 0.06, 0.19, 0.06]],\n",
              "\n",
              "       [[0.04, 0.17, 0.1 , 0.08, 0.13, 0.17, 0.08, 0.11, 0.07, 0.05]],\n",
              "\n",
              "       [[0.08, 0.09, 0.09, 0.1 , 0.13, 0.07, 0.09, 0.14, 0.11, 0.1 ]],\n",
              "\n",
              "       [[0.05, 0.14, 0.22, 0.06, 0.06, 0.07, 0.1 , 0.13, 0.04, 0.13]],\n",
              "\n",
              "       [[0.12, 0.09, 0.1 , 0.13, 0.09, 0.07, 0.12, 0.09, 0.08, 0.11]],\n",
              "\n",
              "       [[0.08, 0.15, 0.06, 0.1 , 0.09, 0.08, 0.19, 0.15, 0.07, 0.04]],\n",
              "\n",
              "       [[0.16, 0.21, 0.12, 0.03, 0.05, 0.21, 0.1 , 0.02, 0.07, 0.03]],\n",
              "\n",
              "       [[0.07, 0.07, 0.12, 0.12, 0.16, 0.1 , 0.13, 0.02, 0.04, 0.16]],\n",
              "\n",
              "       [[0.34, 0.03, 0.15, 0.09, 0.04, 0.05, 0.17, 0.04, 0.03, 0.07]],\n",
              "\n",
              "       [[0.17, 0.09, 0.05, 0.11, 0.12, 0.22, 0.07, 0.06, 0.05, 0.06]],\n",
              "\n",
              "       [[0.07, 0.09, 0.16, 0.07, 0.12, 0.09, 0.07, 0.11, 0.13, 0.1 ]],\n",
              "\n",
              "       [[0.07, 0.13, 0.14, 0.08, 0.12, 0.13, 0.08, 0.13, 0.05, 0.06]],\n",
              "\n",
              "       [[0.18, 0.2 , 0.03, 0.04, 0.07, 0.17, 0.06, 0.05, 0.13, 0.07]],\n",
              "\n",
              "       [[0.04, 0.05, 0.04, 0.04, 0.06, 0.42, 0.08, 0.01, 0.14, 0.13]],\n",
              "\n",
              "       [[0.04, 0.04, 0.07, 0.14, 0.19, 0.07, 0.04, 0.22, 0.06, 0.13]],\n",
              "\n",
              "       [[0.16, 0.1 , 0.07, 0.07, 0.05, 0.08, 0.24, 0.06, 0.1 , 0.06]],\n",
              "\n",
              "       [[0.1 , 0.07, 0.04, 0.19, 0.12, 0.05, 0.12, 0.06, 0.12, 0.12]],\n",
              "\n",
              "       [[0.08, 0.13, 0.05, 0.04, 0.09, 0.1 , 0.07, 0.1 , 0.26, 0.1 ]],\n",
              "\n",
              "       [[0.08, 0.07, 0.11, 0.16, 0.14, 0.04, 0.1 , 0.12, 0.09, 0.08]],\n",
              "\n",
              "       [[0.17, 0.05, 0.09, 0.08, 0.05, 0.2 , 0.09, 0.05, 0.11, 0.1 ]],\n",
              "\n",
              "       [[0.08, 0.09, 0.08, 0.16, 0.06, 0.05, 0.12, 0.1 , 0.21, 0.05]],\n",
              "\n",
              "       [[0.09, 0.38, 0.1 , 0.09, 0.06, 0.09, 0.02, 0.08, 0.05, 0.05]],\n",
              "\n",
              "       [[0.04, 0.22, 0.02, 0.05, 0.09, 0.13, 0.11, 0.24, 0.06, 0.04]],\n",
              "\n",
              "       [[0.08, 0.1 , 0.14, 0.06, 0.15, 0.03, 0.08, 0.14, 0.07, 0.14]],\n",
              "\n",
              "       [[0.12, 0.04, 0.14, 0.12, 0.06, 0.15, 0.08, 0.07, 0.1 , 0.11]],\n",
              "\n",
              "       [[0.21, 0.08, 0.06, 0.09, 0.06, 0.11, 0.17, 0.06, 0.1 , 0.06]],\n",
              "\n",
              "       [[0.06, 0.07, 0.03, 0.09, 0.08, 0.09, 0.05, 0.04, 0.38, 0.11]],\n",
              "\n",
              "       [[0.08, 0.12, 0.14, 0.07, 0.1 , 0.09, 0.06, 0.09, 0.19, 0.07]],\n",
              "\n",
              "       [[0.02, 0.26, 0.06, 0.11, 0.08, 0.05, 0.15, 0.13, 0.04, 0.12]],\n",
              "\n",
              "       [[0.09, 0.02, 0.07, 0.07, 0.18, 0.04, 0.14, 0.08, 0.24, 0.05]],\n",
              "\n",
              "       [[0.04, 0.09, 0.07, 0.09, 0.13, 0.06, 0.1 , 0.18, 0.07, 0.16]],\n",
              "\n",
              "       [[0.05, 0.27, 0.04, 0.05, 0.1 , 0.05, 0.15, 0.06, 0.05, 0.16]],\n",
              "\n",
              "       [[0.05, 0.11, 0.16, 0.01, 0.3 , 0.04, 0.11, 0.07, 0.05, 0.1 ]],\n",
              "\n",
              "       [[0.19, 0.11, 0.27, 0.05, 0.06, 0.07, 0.08, 0.05, 0.06, 0.06]],\n",
              "\n",
              "       [[0.05, 0.07, 0.1 , 0.15, 0.08, 0.02, 0.34, 0.07, 0.05, 0.06]],\n",
              "\n",
              "       [[0.12, 0.11, 0.17, 0.2 , 0.08, 0.06, 0.1 , 0.09, 0.02, 0.05]],\n",
              "\n",
              "       [[0.07, 0.06, 0.07, 0.11, 0.11, 0.06, 0.09, 0.09, 0.12, 0.2 ]],\n",
              "\n",
              "       [[0.05, 0.17, 0.04, 0.09, 0.07, 0.14, 0.11, 0.12, 0.08, 0.13]],\n",
              "\n",
              "       [[0.06, 0.18, 0.05, 0.08, 0.07, 0.25, 0.11, 0.05, 0.05, 0.11]],\n",
              "\n",
              "       [[0.09, 0.07, 0.03, 0.09, 0.14, 0.15, 0.03, 0.1 , 0.04, 0.24]],\n",
              "\n",
              "       [[0.05, 0.09, 0.07, 0.11, 0.12, 0.12, 0.22, 0.08, 0.06, 0.09]],\n",
              "\n",
              "       [[0.15, 0.04, 0.19, 0.07, 0.07, 0.11, 0.1 , 0.07, 0.12, 0.07]],\n",
              "\n",
              "       [[0.14, 0.03, 0.06, 0.23, 0.04, 0.1 , 0.06, 0.18, 0.12, 0.05]],\n",
              "\n",
              "       [[0.06, 0.04, 0.1 , 0.19, 0.07, 0.15, 0.05, 0.1 , 0.17, 0.07]],\n",
              "\n",
              "       [[0.05, 0.05, 0.11, 0.1 , 0.06, 0.25, 0.04, 0.1 , 0.19, 0.05]],\n",
              "\n",
              "       [[0.09, 0.25, 0.09, 0.05, 0.13, 0.03, 0.09, 0.09, 0.05, 0.12]],\n",
              "\n",
              "       [[0.06, 0.03, 0.05, 0.17, 0.1 , 0.11, 0.19, 0.04, 0.13, 0.12]],\n",
              "\n",
              "       [[0.19, 0.14, 0.07, 0.08, 0.03, 0.02, 0.18, 0.05, 0.05, 0.19]],\n",
              "\n",
              "       [[0.28, 0.11, 0.16, 0.03, 0.04, 0.03, 0.14, 0.08, 0.03, 0.1 ]],\n",
              "\n",
              "       [[0.1 , 0.22, 0.07, 0.11, 0.13, 0.06, 0.09, 0.11, 0.06, 0.05]],\n",
              "\n",
              "       [[0.03, 0.28, 0.04, 0.09, 0.09, 0.07, 0.03, 0.05, 0.21, 0.09]],\n",
              "\n",
              "       [[0.05, 0.22, 0.05, 0.12, 0.15, 0.06, 0.18, 0.07, 0.06, 0.05]],\n",
              "\n",
              "       [[0.1 , 0.07, 0.02, 0.03, 0.28, 0.09, 0.22, 0.05, 0.06, 0.08]],\n",
              "\n",
              "       [[0.05, 0.4 , 0.07, 0.09, 0.06, 0.09, 0.03, 0.03, 0.13, 0.05]],\n",
              "\n",
              "       [[0.17, 0.1 , 0.25, 0.11, 0.07, 0.08, 0.05, 0.06, 0.05, 0.05]],\n",
              "\n",
              "       [[0.27, 0.04, 0.08, 0.05, 0.07, 0.03, 0.26, 0.09, 0.06, 0.06]],\n",
              "\n",
              "       [[0.04, 0.03, 0.1 , 0.09, 0.1 , 0.09, 0.05, 0.03, 0.35, 0.12]],\n",
              "\n",
              "       [[0.19, 0.13, 0.25, 0.04, 0.06, 0.03, 0.07, 0.03, 0.14, 0.07]],\n",
              "\n",
              "       [[0.13, 0.06, 0.11, 0.04, 0.12, 0.15, 0.1 , 0.19, 0.04, 0.05]],\n",
              "\n",
              "       [[0.12, 0.03, 0.03, 0.04, 0.29, 0.08, 0.09, 0.11, 0.18, 0.04]],\n",
              "\n",
              "       [[0.06, 0.48, 0.05, 0.09, 0.05, 0.12, 0.06, 0.03, 0.02, 0.05]],\n",
              "\n",
              "       [[0.08, 0.17, 0.06, 0.11, 0.06, 0.15, 0.03, 0.1 , 0.06, 0.17]],\n",
              "\n",
              "       [[0.08, 0.27, 0.09, 0.04, 0.1 , 0.09, 0.12, 0.05, 0.05, 0.1 ]],\n",
              "\n",
              "       [[0.08, 0.06, 0.09, 0.08, 0.17, 0.06, 0.12, 0.16, 0.05, 0.14]],\n",
              "\n",
              "       [[0.07, 0.03, 0.1 , 0.1 , 0.12, 0.15, 0.06, 0.19, 0.07, 0.1 ]],\n",
              "\n",
              "       [[0.11, 0.04, 0.04, 0.17, 0.08, 0.2 , 0.15, 0.06, 0.09, 0.07]],\n",
              "\n",
              "       [[0.02, 0.05, 0.09, 0.04, 0.16, 0.04, 0.06, 0.39, 0.04, 0.11]],\n",
              "\n",
              "       [[0.09, 0.12, 0.36, 0.03, 0.05, 0.05, 0.13, 0.08, 0.06, 0.03]],\n",
              "\n",
              "       [[0.07, 0.14, 0.06, 0.05, 0.16, 0.09, 0.11, 0.08, 0.09, 0.17]],\n",
              "\n",
              "       [[0.15, 0.03, 0.14, 0.13, 0.03, 0.11, 0.09, 0.18, 0.1 , 0.04]],\n",
              "\n",
              "       [[0.1 , 0.17, 0.1 , 0.05, 0.06, 0.1 , 0.08, 0.1 , 0.09, 0.15]],\n",
              "\n",
              "       [[0.09, 0.06, 0.15, 0.14, 0.07, 0.05, 0.29, 0.06, 0.04, 0.05]],\n",
              "\n",
              "       [[0.11, 0.17, 0.12, 0.06, 0.11, 0.07, 0.09, 0.15, 0.03, 0.09]],\n",
              "\n",
              "       [[0.09, 0.03, 0.22, 0.03, 0.15, 0.13, 0.04, 0.21, 0.05, 0.05]],\n",
              "\n",
              "       [[0.06, 0.03, 0.17, 0.12, 0.12, 0.08, 0.14, 0.07, 0.12, 0.11]],\n",
              "\n",
              "       [[0.09, 0.18, 0.18, 0.07, 0.02, 0.12, 0.05, 0.1 , 0.06, 0.13]],\n",
              "\n",
              "       [[0.15, 0.02, 0.1 , 0.22, 0.04, 0.11, 0.07, 0.15, 0.1 , 0.04]],\n",
              "\n",
              "       [[0.05, 0.07, 0.16, 0.1 , 0.13, 0.07, 0.11, 0.08, 0.08, 0.15]],\n",
              "\n",
              "       [[0.17, 0.05, 0.12, 0.09, 0.05, 0.12, 0.04, 0.11, 0.06, 0.19]],\n",
              "\n",
              "       [[0.08, 0.03, 0.1 , 0.06, 0.14, 0.07, 0.02, 0.21, 0.16, 0.13]],\n",
              "\n",
              "       [[0.09, 0.06, 0.22, 0.11, 0.09, 0.07, 0.18, 0.06, 0.06, 0.06]]],\n",
              "      dtype=float32)"
            ]
          },
          "metadata": {
            "tags": []
          },
          "execution_count": 28
        }
      ]
    },
    {
      "cell_type": "code",
      "metadata": {
        "id": "heYol0sl8Sbo",
        "colab_type": "code",
        "outputId": "2a8d3a32-33a6-4018-9442-4a224a691cbf",
        "colab": {
          "base_uri": "https://localhost:8080/",
          "height": 52
        }
      },
      "source": [
        "np.round(y_mean[:1], 2)"
      ],
      "execution_count": 29,
      "outputs": [
        {
          "output_type": "execute_result",
          "data": {
            "text/plain": [
              "array([[0.1 , 0.11, 0.1 , 0.09, 0.1 , 0.1 , 0.1 , 0.1 , 0.09, 0.1 ]],\n",
              "      dtype=float32)"
            ]
          },
          "metadata": {
            "tags": []
          },
          "execution_count": 29
        }
      ]
    },
    {
      "cell_type": "code",
      "metadata": {
        "id": "BDS46-nT8Xz4",
        "colab_type": "code",
        "outputId": "e8e77108-89d3-49a8-e138-116aff9a3462",
        "colab": {
          "base_uri": "https://localhost:8080/",
          "height": 52
        }
      },
      "source": [
        "y_std = y_prob.std(axis=0)\n",
        "np.round(y_std[:1], 2)"
      ],
      "execution_count": 30,
      "outputs": [
        {
          "output_type": "execute_result",
          "data": {
            "text/plain": [
              "array([[0.06, 0.09, 0.06, 0.05, 0.06, 0.06, 0.06, 0.06, 0.06, 0.05]],\n",
              "      dtype=float32)"
            ]
          },
          "metadata": {
            "tags": []
          },
          "execution_count": 30
        }
      ]
    },
    {
      "cell_type": "code",
      "metadata": {
        "id": "V0U7m18Y8cuA",
        "colab_type": "code",
        "colab": {}
      },
      "source": [
        "y_pred = np.argmax(y_mean, axis=1)"
      ],
      "execution_count": 0,
      "outputs": []
    },
    {
      "cell_type": "code",
      "metadata": {
        "id": "tgP_d3hF9SMZ",
        "colab_type": "code",
        "outputId": "d8ec2582-87f0-45fe-dac5-20f0ff308eea",
        "colab": {
          "base_uri": "https://localhost:8080/",
          "height": 35
        }
      },
      "source": [
        "y_pred"
      ],
      "execution_count": 32,
      "outputs": [
        {
          "output_type": "execute_result",
          "data": {
            "text/plain": [
              "array([1, 7, 4, ..., 1, 7, 7])"
            ]
          },
          "metadata": {
            "tags": []
          },
          "execution_count": 32
        }
      ]
    },
    {
      "cell_type": "code",
      "metadata": {
        "id": "efXRBzhR9V14",
        "colab_type": "code",
        "outputId": "e741b9e4-4ccf-4c5e-c8f1-6779fb54067e",
        "colab": {
          "base_uri": "https://localhost:8080/",
          "height": 35
        }
      },
      "source": [
        "y_test_shaped = y_test.reshape(len(y_pred))\n",
        "y_test_shaped"
      ],
      "execution_count": 33,
      "outputs": [
        {
          "output_type": "execute_result",
          "data": {
            "text/plain": [
              "array([7, 9, 9, ..., 4, 4, 0], dtype=uint8)"
            ]
          },
          "metadata": {
            "tags": []
          },
          "execution_count": 33
        }
      ]
    },
    {
      "cell_type": "code",
      "metadata": {
        "id": "Kuu74DsO8k46",
        "colab_type": "code",
        "outputId": "f4c31450-8796-48d0-c6ad-2105621c4c17",
        "colab": {
          "base_uri": "https://localhost:8080/",
          "height": 35
        }
      },
      "source": [
        "count = 0\n",
        "for ix in range(len(y_pred)):\n",
        "  if y_pred[ix] == y_test[ix]:\n",
        "    count += 1\n",
        "print(\"Accuracy:\", count / len(y_test))"
      ],
      "execution_count": 34,
      "outputs": [
        {
          "output_type": "stream",
          "text": [
            "Accuracy: 0.08977777777777778\n"
          ],
          "name": "stdout"
        }
      ]
    },
    {
      "cell_type": "markdown",
      "metadata": {
        "id": "76hNOQUl-2Ce",
        "colab_type": "text"
      },
      "source": [
        "f). Apply 1CycleScheduler and compare accuracy and speed!\n",
        "\n",
        "Note: The following code is obtained from the author's notebook. I simply applied them into my model, as per the instruction!"
      ]
    },
    {
      "cell_type": "code",
      "metadata": {
        "id": "UeoFIEF09OAu",
        "colab_type": "code",
        "colab": {}
      },
      "source": [
        "K = keras.backend\n",
        "class OneCycleScheduler(keras.callbacks.Callback):\n",
        "    def __init__(self, iterations, max_rate, start_rate=None,\n",
        "                 last_iterations=None, last_rate=None):\n",
        "        self.iterations = iterations\n",
        "        self.max_rate = max_rate\n",
        "        self.start_rate = start_rate or max_rate / 10\n",
        "        self.last_iterations = last_iterations or iterations // 10 + 1\n",
        "        self.half_iteration = (iterations - self.last_iterations) // 2\n",
        "        self.last_rate = last_rate or self.start_rate / 1000\n",
        "        self.iteration = 0\n",
        "    def _interpolate(self, iter1, iter2, rate1, rate2):\n",
        "        return ((rate2 - rate1) * (self.iteration - iter1)\n",
        "                / (iter2 - iter1) + rate1)\n",
        "    def on_batch_begin(self, batch, logs):\n",
        "        if self.iteration < self.half_iteration:\n",
        "            rate = self._interpolate(0, self.half_iteration, self.start_rate, self.max_rate)\n",
        "        elif self.iteration < 2 * self.half_iteration:\n",
        "            rate = self._interpolate(self.half_iteration, 2 * self.half_iteration,\n",
        "                                     self.max_rate, self.start_rate)\n",
        "        else:\n",
        "            rate = self._interpolate(2 * self.half_iteration, self.iterations,\n",
        "                                     self.start_rate, self.last_rate)\n",
        "            rate = max(rate, self.last_rate)\n",
        "        self.iteration += 1\n",
        "        K.set_value(self.model.optimizer.lr, rate)"
      ],
      "execution_count": 0,
      "outputs": []
    },
    {
      "cell_type": "code",
      "metadata": {
        "id": "ITAVNCFj_ecK",
        "colab_type": "code",
        "outputId": "c7381218-d288-4fbb-c149-6fd0ac31f800",
        "colab": {
          "base_uri": "https://localhost:8080/",
          "height": 262
        }
      },
      "source": [
        "model = build_model_Alpha()\n",
        "batch_size = 32\n",
        "onecycle = OneCycleScheduler(len(X_train) // batch_size * 15, max_rate=0.05)\n",
        "model.compile(loss='sparse_categorical_crossentropy', optimizer=keras.optimizers.Nadam(learning_rate=0.001), metrics=['accuracy'])\n",
        "t0 = time.time()\n",
        "history_Alpha = model.fit(X_train_scale, y_train, epochs=n_epochs, validation_split=0.1, callbacks=[onecycle, keras.callbacks.EarlyStopping(patience=5, restore_best_weights=True)])\n",
        "t1 = time.time()\n",
        "total = t1 - t0"
      ],
      "execution_count": 36,
      "outputs": [
        {
          "output_type": "stream",
          "text": [
            "Train on 18000 samples, validate on 2000 samples\n",
            "Epoch 1/35\n",
            "18000/18000 [==============================] - 10s 531us/sample - loss: 2.4587 - accuracy: 0.0996 - val_loss: 2.4704 - val_accuracy: 0.0915\n",
            "Epoch 2/35\n",
            "18000/18000 [==============================] - 6s 358us/sample - loss: 3.9238 - accuracy: 0.0995 - val_loss: 2.7770 - val_accuracy: 0.1055\n",
            "Epoch 3/35\n",
            "18000/18000 [==============================] - 7s 364us/sample - loss: 122292.1140 - accuracy: 0.0981 - val_loss: 3.4408 - val_accuracy: 0.0915\n",
            "Epoch 4/35\n",
            "18000/18000 [==============================] - 7s 374us/sample - loss: 761738896322.2831 - accuracy: 0.1026 - val_loss: 3.3673 - val_accuracy: 0.1015\n",
            "Epoch 5/35\n",
            "18000/18000 [==============================] - 6s 356us/sample - loss: 2893182161794834.5000 - accuracy: 0.0971 - val_loss: 2.9177 - val_accuracy: 0.0915\n",
            "Epoch 6/35\n",
            "18000/18000 [==============================] - 6s 350us/sample - loss: 59183682310529264.0000 - accuracy: 0.1016 - val_loss: 4.4385 - val_accuracy: 0.0915\n"
          ],
          "name": "stdout"
        }
      ]
    },
    {
      "cell_type": "code",
      "metadata": {
        "id": "TeS-3HKdCgzh",
        "colab_type": "code",
        "outputId": "26f68a5a-6df9-4e8c-9ea3-b4e60d0dd5f9",
        "colab": {
          "base_uri": "https://localhost:8080/",
          "height": 35
        }
      },
      "source": [
        "print(\"Time Spanned for 1Cycle Dropout:\", np.round(total, 2))"
      ],
      "execution_count": 37,
      "outputs": [
        {
          "output_type": "stream",
          "text": [
            "Time Spanned for 1Cycle Dropout: 42.44\n"
          ],
          "name": "stdout"
        }
      ]
    },
    {
      "cell_type": "code",
      "metadata": {
        "id": "mj_5Ez2D_0Ur",
        "colab_type": "code",
        "outputId": "ac6c40d5-1ff9-4889-837d-c6df8e24c5c8",
        "colab": {
          "base_uri": "https://localhost:8080/",
          "height": 52
        }
      },
      "source": [
        "model.evaluate(X_test_scale, y_test)"
      ],
      "execution_count": 38,
      "outputs": [
        {
          "output_type": "stream",
          "text": [
            "4500/4500 [==============================] - 0s 86us/sample - loss: 2.4790 - accuracy: 0.1040\n"
          ],
          "name": "stdout"
        },
        {
          "output_type": "execute_result",
          "data": {
            "text/plain": [
              "[2.478952627182007, 0.104]"
            ]
          },
          "metadata": {
            "tags": []
          },
          "execution_count": 38
        }
      ]
    }
  ]
}