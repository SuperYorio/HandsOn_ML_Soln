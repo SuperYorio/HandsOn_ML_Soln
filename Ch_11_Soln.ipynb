{
 "cells": [
  {
   "cell_type": "markdown",
   "metadata": {
    "colab_type": "text",
    "id": "Q3laFl8cnQ4D"
   },
   "source": [
    "# #8. Train a deep neural network on the CIFAR10 Dataset"
   ]
  },
  {
   "cell_type": "markdown",
   "metadata": {},
   "source": [
    "Hello! This is SuperYorio! This Notebook is my solution to Aurelion Geron's Chapter 11 exercises! Since the solutions are not yet available, I would like to present my results with other readers! Obviously, my solution won't be as optimized as Geron's, but I hope we can learn by comparing our results!"
   ]
  },
  {
   "cell_type": "markdown",
   "metadata": {},
   "source": [
    "A few important notes:\n",
    "<ul>\n",
    "     <li>To save time for this exercise, I have decided to use only part of the whole dataset.</li>\n",
    "     <li>I used 35 epochs for each fit with a patience of 5 for EarlyStopping. Since the point of this exercise is to compare vanilla networks with normalized networks with other various regularizers rather than trying to achieve a high accuracy.</li>\n",
    "     <li>The learning rate for each architecture aren't tuned, I simply hand tweaked a few values and picked the best ones</li>\n",
    "     <li>I don't think we should stress over the accuracy. We are using DNN to classify images when in reality, CNN's would work much, much better.</li>\n",
    "     <li>If you are an accuracy buff, I suggest you to thoroughly tune the learning rate and train on many more epochs!</li>\n",
    "</ul>"
   ]
  },
  {
   "cell_type": "code",
   "execution_count": 1,
   "metadata": {
    "colab": {
     "base_uri": "https://localhost:8080/",
     "height": 35
    },
    "colab_type": "code",
    "id": "nScBHbcGmjz6",
    "outputId": "4aaf2834-efea-4ffe-fdb8-80fb0a5dd3a2"
   },
   "outputs": [
    {
     "name": "stdout",
     "output_type": "stream",
     "text": [
      "TensorFlow 2.x selected.\n"
     ]
    }
   ],
   "source": [
    "try:\n",
    "    %tensorflow_version 2.x\n",
    "except Exception:\n",
    "    pass\n",
    "\n",
    "# TensorFlow 2.x\n",
    "import tensorflow as tf\n",
    "from tensorflow import keras\n",
    "\n",
    "import numpy as np"
   ]
  },
  {
   "cell_type": "markdown",
   "metadata": {
    "colab_type": "text",
    "id": "TjrNhkrjnlQM"
   },
   "source": [
    "a). Build a DNN with 20 hidden layers of 100 neurons each (that’s too many, but it’s the point of this exercise). Use He initialization and the ELU activation function.\n",
    "\n",
    "Note: The CIFAR10 dataset consists of 32x32 images, so we can specify our input_shape."
   ]
  },
  {
   "cell_type": "code",
   "execution_count": 0,
   "metadata": {
    "colab": {},
    "colab_type": "code",
    "id": "hkbP7abDnOcg"
   },
   "outputs": [],
   "source": [
    "def build_model(n_units=100, n_layers=20, activation='elu'):\n",
    "  model = keras.models.Sequential()\n",
    "  model.add(keras.layers.Flatten(input_shape=[32,32,3]))\n",
    "  for _ in range(n_layers):\n",
    "    model.add(keras.layers.Dense(n_units, activation, kernel_initializer=\"he_normal\"))\n",
    "  model.add(keras.layers.Dense(10, 'softmax'))\n",
    "  return model"
   ]
  },
  {
   "cell_type": "markdown",
   "metadata": {
    "colab_type": "text",
    "id": "Asb-vUQSo_Vd"
   },
   "source": [
    "b). Using Nadam optimization and early stopping, train the network on the CIFAR10 dataset. You can load it with keras.datasets.cifar10.load_​data(). The dataset is composed of 60,000 32 × 32–pixel color images (50,000 for training, 10,000 for testing) with 10 classes, so you’ll need a softmax output layer with 10 neurons. Remember to search for the right learning rate each time you change the model’s architecture or hyperparameters."
   ]
  },
  {
   "cell_type": "code",
   "execution_count": 0,
   "metadata": {
    "colab": {},
    "colab_type": "code",
    "id": "a1xncjfgo-tN"
   },
   "outputs": [],
   "source": [
    "cifar = keras.datasets.cifar10.load_data()\n",
    "(X_train, y_train), (X_test, y_test) = cifar"
   ]
  },
  {
   "cell_type": "markdown",
   "metadata": {
    "colab_type": "text",
    "id": "Kj591nvIwoIn"
   },
   "source": [
    "To shorten up the training time, let's train on 20K images instead of 4.5K. Before that, let's shuffle the dataset."
   ]
  },
  {
   "cell_type": "code",
   "execution_count": 0,
   "metadata": {
    "colab": {},
    "colab_type": "code",
    "id": "SBUqi1UOwwKR"
   },
   "outputs": [],
   "source": [
    "train_idx = X_train.shape[0]\n",
    "test_idx = X_test.shape[0]\n",
    "train_idx = np.random.permutation(train_idx)\n",
    "test_idx = np.random.permutation(test_idx)\n",
    "X_train = X_train[train_idx][:20000]\n",
    "y_train = y_train[train_idx][:20000]\n",
    "X_test = X_test[test_idx][:4500]\n",
    "y_test = y_test[test_idx][:4500]"
   ]
  },
  {
   "cell_type": "markdown",
   "metadata": {
    "colab_type": "text",
    "id": "-JQ__Tl1pe09"
   },
   "source": [
    "Now that we have the model configurations and the dataset ready, we can compile the model."
   ]
  },
  {
   "cell_type": "code",
   "execution_count": 5,
   "metadata": {
    "colab": {
     "base_uri": "https://localhost:8080/",
     "height": 587
    },
    "colab_type": "code",
    "id": "pwJ1kGwdpdPb",
    "outputId": "372ebb63-fea9-4f18-eab4-ad1f9240d91e"
   },
   "outputs": [
    {
     "name": "stdout",
     "output_type": "stream",
     "text": [
      "Train on 18000 samples, validate on 2000 samples\n",
      "Epoch 1/35\n",
      "18000/18000 [==============================] - 8s 446us/sample - loss: 5.0749 - accuracy: 0.1794 - val_loss: 2.2097 - val_accuracy: 0.2040\n",
      "Epoch 2/35\n",
      "18000/18000 [==============================] - 6s 324us/sample - loss: 2.0299 - accuracy: 0.2441 - val_loss: 2.1136 - val_accuracy: 0.2275\n",
      "Epoch 3/35\n",
      "18000/18000 [==============================] - 6s 325us/sample - loss: 1.9670 - accuracy: 0.2745 - val_loss: 2.0974 - val_accuracy: 0.2215\n",
      "Epoch 4/35\n",
      "18000/18000 [==============================] - 6s 321us/sample - loss: 1.9039 - accuracy: 0.2964 - val_loss: 2.0123 - val_accuracy: 0.2710\n",
      "Epoch 5/35\n",
      "18000/18000 [==============================] - 6s 320us/sample - loss: 1.8773 - accuracy: 0.3131 - val_loss: 1.9156 - val_accuracy: 0.2860\n",
      "Epoch 6/35\n",
      "18000/18000 [==============================] - 6s 321us/sample - loss: 1.8519 - accuracy: 0.3265 - val_loss: 1.8919 - val_accuracy: 0.3125\n",
      "Epoch 7/35\n",
      "18000/18000 [==============================] - 6s 337us/sample - loss: 1.8384 - accuracy: 0.3348 - val_loss: 1.8936 - val_accuracy: 0.3080\n",
      "Epoch 8/35\n",
      "18000/18000 [==============================] - 6s 354us/sample - loss: 1.8072 - accuracy: 0.3411 - val_loss: 1.8354 - val_accuracy: 0.3405\n",
      "Epoch 9/35\n",
      "18000/18000 [==============================] - 6s 358us/sample - loss: 1.7989 - accuracy: 0.3459 - val_loss: 1.9058 - val_accuracy: 0.3165\n",
      "Epoch 10/35\n",
      "18000/18000 [==============================] - 6s 351us/sample - loss: 1.8073 - accuracy: 0.3474 - val_loss: 1.8411 - val_accuracy: 0.3395\n",
      "Epoch 11/35\n",
      "18000/18000 [==============================] - 6s 341us/sample - loss: 1.7789 - accuracy: 0.3546 - val_loss: 1.8197 - val_accuracy: 0.3305\n",
      "Epoch 12/35\n",
      "18000/18000 [==============================] - 6s 333us/sample - loss: 1.7974 - accuracy: 0.3462 - val_loss: 2.0471 - val_accuracy: 0.2625\n",
      "Epoch 13/35\n",
      "18000/18000 [==============================] - 7s 374us/sample - loss: 1.7848 - accuracy: 0.3526 - val_loss: 1.8429 - val_accuracy: 0.3315\n",
      "Epoch 14/35\n",
      "18000/18000 [==============================] - 6s 342us/sample - loss: 1.7564 - accuracy: 0.3666 - val_loss: 1.8368 - val_accuracy: 0.3555\n",
      "Epoch 15/35\n",
      "18000/18000 [==============================] - 6s 335us/sample - loss: 1.7381 - accuracy: 0.3752 - val_loss: 1.8316 - val_accuracy: 0.3415\n",
      "Epoch 16/35\n",
      "18000/18000 [==============================] - 6s 332us/sample - loss: 1.7296 - accuracy: 0.3769 - val_loss: 1.8516 - val_accuracy: 0.3440\n"
     ]
    }
   ],
   "source": [
    "import time\n",
    "\n",
    "n_epochs = 35\n",
    "model = build_model()\n",
    "model.compile(loss='sparse_categorical_crossentropy', optimizer=keras.optimizers.Nadam(), metrics=['accuracy'])\n",
    "t0 = time.time()\n",
    "history = model.fit(X_train, y_train, epochs=n_epochs, validation_split=0.1, callbacks=[keras.callbacks.EarlyStopping(patience=5, restore_best_weights=True)])\n",
    "t1 = time.time()\n",
    "total = t1 - t0"
   ]
  },
  {
   "cell_type": "code",
   "execution_count": 6,
   "metadata": {
    "colab": {
     "base_uri": "https://localhost:8080/",
     "height": 35
    },
    "colab_type": "code",
    "id": "R_ThE_jDBwR-",
    "outputId": "d712a05b-e82f-4088-9e23-4e8672751f9b"
   },
   "outputs": [
    {
     "name": "stdout",
     "output_type": "stream",
     "text": [
      "Time Spanned: 99.48\n"
     ]
    }
   ],
   "source": [
    "print(\"Time Spanned:\", np.round(total, 2))"
   ]
  },
  {
   "cell_type": "code",
   "execution_count": 7,
   "metadata": {
    "colab": {
     "base_uri": "https://localhost:8080/",
     "height": 52
    },
    "colab_type": "code",
    "id": "_LWjXz8QJFLz",
    "outputId": "7d392971-cf36-44f0-c382-bb7c5326a7fc"
   },
   "outputs": [
    {
     "name": "stdout",
     "output_type": "stream",
     "text": [
      "4500/4500 [==============================] - 0s 92us/sample - loss: 1.7806 - accuracy: 0.3631\n"
     ]
    },
    {
     "data": {
      "text/plain": [
       "[1.7805672325558133, 0.3631111]"
      ]
     },
     "execution_count": 7,
     "metadata": {
      "tags": []
     },
     "output_type": "execute_result"
    }
   ],
   "source": [
    "model.evaluate(X_test, y_test)"
   ]
  },
  {
   "cell_type": "markdown",
   "metadata": {
    "colab_type": "text",
    "id": "Jzfva36asTYZ"
   },
   "source": [
    "c). Now try adding Batch Normalization and compare the learning curves: Is it converging faster than before? Does it produce a better model? How does it affect training speed?"
   ]
  },
  {
   "cell_type": "code",
   "execution_count": 0,
   "metadata": {
    "colab": {},
    "colab_type": "code",
    "id": "IkGv0K2ZrQel"
   },
   "outputs": [],
   "source": [
    "def build_model_w_BN(n_units=100, n_layers=20, activation='elu'):\n",
    "  model = keras.models.Sequential()\n",
    "  model.add(keras.layers.Flatten(input_shape=[32,32,3]))\n",
    "  model.add(keras.layers.BatchNormalization(momentum=0.9))\n",
    "  for _ in range(n_layers):\n",
    "    model.add(keras.layers.Dense(n_units, activation, kernel_initializer=\"he_normal\"))\n",
    "    model.add(keras.layers.BatchNormalization(momentum=0.9))\n",
    "  model.add(keras.layers.Dense(10, 'softmax'))\n",
    "  return model"
   ]
  },
  {
   "cell_type": "code",
   "execution_count": 9,
   "metadata": {
    "colab": {
     "base_uri": "https://localhost:8080/",
     "height": 829
    },
    "colab_type": "code",
    "id": "51M4Y62lstzT",
    "outputId": "3b5c8bc4-d53c-4c8d-85fc-a153a436dcdf"
   },
   "outputs": [
    {
     "name": "stdout",
     "output_type": "stream",
     "text": [
      "Train on 18000 samples, validate on 2000 samples\n",
      "Epoch 1/35\n",
      "18000/18000 [==============================] - 25s 1ms/sample - loss: 2.1023 - accuracy: 0.2306 - val_loss: 1.9621 - val_accuracy: 0.2515\n",
      "Epoch 2/35\n",
      "18000/18000 [==============================] - 17s 965us/sample - loss: 1.8912 - accuracy: 0.2987 - val_loss: 1.9507 - val_accuracy: 0.2955\n",
      "Epoch 3/35\n",
      "18000/18000 [==============================] - 18s 976us/sample - loss: 1.8371 - accuracy: 0.3277 - val_loss: 1.7918 - val_accuracy: 0.3440\n",
      "Epoch 4/35\n",
      "18000/18000 [==============================] - 17s 960us/sample - loss: 1.8011 - accuracy: 0.3430 - val_loss: 1.8028 - val_accuracy: 0.3375\n",
      "Epoch 5/35\n",
      "18000/18000 [==============================] - 18s 978us/sample - loss: 1.7603 - accuracy: 0.3647 - val_loss: 1.8340 - val_accuracy: 0.3090\n",
      "Epoch 6/35\n",
      "18000/18000 [==============================] - 17s 949us/sample - loss: 1.7302 - accuracy: 0.3834 - val_loss: 1.7692 - val_accuracy: 0.3590\n",
      "Epoch 7/35\n",
      "18000/18000 [==============================] - 17s 962us/sample - loss: 1.7035 - accuracy: 0.3883 - val_loss: 1.8311 - val_accuracy: 0.3420\n",
      "Epoch 8/35\n",
      "18000/18000 [==============================] - 17s 946us/sample - loss: 1.6941 - accuracy: 0.3958 - val_loss: 1.7092 - val_accuracy: 0.3970\n",
      "Epoch 9/35\n",
      "18000/18000 [==============================] - 17s 967us/sample - loss: 1.6598 - accuracy: 0.4127 - val_loss: 1.7169 - val_accuracy: 0.3865\n",
      "Epoch 10/35\n",
      "18000/18000 [==============================] - 18s 973us/sample - loss: 1.6336 - accuracy: 0.4233 - val_loss: 1.6799 - val_accuracy: 0.4020\n",
      "Epoch 11/35\n",
      "18000/18000 [==============================] - 17s 968us/sample - loss: 1.6119 - accuracy: 0.4288 - val_loss: 1.6307 - val_accuracy: 0.4320\n",
      "Epoch 12/35\n",
      "18000/18000 [==============================] - 17s 961us/sample - loss: 1.5835 - accuracy: 0.4443 - val_loss: 1.6419 - val_accuracy: 0.4280\n",
      "Epoch 13/35\n",
      "18000/18000 [==============================] - 16s 907us/sample - loss: 1.5594 - accuracy: 0.4536 - val_loss: 1.6124 - val_accuracy: 0.4290\n",
      "Epoch 14/35\n",
      "18000/18000 [==============================] - 16s 905us/sample - loss: 1.5364 - accuracy: 0.4581 - val_loss: 1.5912 - val_accuracy: 0.4385\n",
      "Epoch 15/35\n",
      "18000/18000 [==============================] - 16s 902us/sample - loss: 1.5184 - accuracy: 0.4675 - val_loss: 1.6038 - val_accuracy: 0.4350\n",
      "Epoch 16/35\n",
      "18000/18000 [==============================] - 16s 865us/sample - loss: 1.4892 - accuracy: 0.4805 - val_loss: 1.5525 - val_accuracy: 0.4480\n",
      "Epoch 17/35\n",
      "18000/18000 [==============================] - 16s 871us/sample - loss: 1.4635 - accuracy: 0.4884 - val_loss: 1.5698 - val_accuracy: 0.4370\n",
      "Epoch 18/35\n",
      "18000/18000 [==============================] - 16s 873us/sample - loss: 1.4469 - accuracy: 0.4969 - val_loss: 1.5506 - val_accuracy: 0.4585\n",
      "Epoch 19/35\n",
      "18000/18000 [==============================] - 16s 901us/sample - loss: 1.4310 - accuracy: 0.5024 - val_loss: 1.5862 - val_accuracy: 0.4420\n",
      "Epoch 20/35\n",
      "18000/18000 [==============================] - 17s 923us/sample - loss: 1.4142 - accuracy: 0.5052 - val_loss: 1.5898 - val_accuracy: 0.4585\n",
      "Epoch 21/35\n",
      "18000/18000 [==============================] - 17s 931us/sample - loss: 1.3979 - accuracy: 0.5151 - val_loss: 1.5928 - val_accuracy: 0.4570\n",
      "Epoch 22/35\n",
      "18000/18000 [==============================] - 16s 909us/sample - loss: 1.3737 - accuracy: 0.5194 - val_loss: 1.5721 - val_accuracy: 0.4430\n",
      "Epoch 23/35\n",
      "18000/18000 [==============================] - 16s 883us/sample - loss: 1.3497 - accuracy: 0.5284 - val_loss: 1.5513 - val_accuracy: 0.4550\n"
     ]
    }
   ],
   "source": [
    "model = build_model_w_BN()\n",
    "model.compile(loss='sparse_categorical_crossentropy', optimizer=keras.optimizers.Nadam(learning_rate=0.01), metrics=['accuracy'])\n",
    "t0 = time.time()\n",
    "history_w_BN = model.fit(X_train, y_train, epochs=n_epochs, validation_split=0.1, callbacks=[keras.callbacks.EarlyStopping(patience=5, restore_best_weights=True)])\n",
    "t1 = time.time()\n",
    "total = t1 - t0"
   ]
  },
  {
   "cell_type": "code",
   "execution_count": 10,
   "metadata": {
    "colab": {
     "base_uri": "https://localhost:8080/",
     "height": 35
    },
    "colab_type": "code",
    "id": "LX3qgemRCDgz",
    "outputId": "4a1ae795-af3f-4074-8941-7e502b53ce0a"
   },
   "outputs": [
    {
     "name": "stdout",
     "output_type": "stream",
     "text": [
      "Time Spanned for BN: 394.13\n"
     ]
    }
   ],
   "source": [
    "print(\"Time Spanned for BN:\", np.round(total, 2))"
   ]
  },
  {
   "cell_type": "code",
   "execution_count": 11,
   "metadata": {
    "colab": {
     "base_uri": "https://localhost:8080/",
     "height": 52
    },
    "colab_type": "code",
    "id": "Pr4GMDunJLAI",
    "outputId": "da12b015-ae3b-4297-e5ce-7e7e17223e06"
   },
   "outputs": [
    {
     "name": "stdout",
     "output_type": "stream",
     "text": [
      "4500/4500 [==============================] - 1s 129us/sample - loss: 1.5311 - accuracy: 0.4656\n"
     ]
    },
    {
     "data": {
      "text/plain": [
       "[1.5310533731248643, 0.46555555]"
      ]
     },
     "execution_count": 11,
     "metadata": {
      "tags": []
     },
     "output_type": "execute_result"
    }
   ],
   "source": [
    "model.evaluate(X_test, y_test)"
   ]
  },
  {
   "cell_type": "code",
   "execution_count": 12,
   "metadata": {
    "colab": {
     "base_uri": "https://localhost:8080/",
     "height": 337
    },
    "colab_type": "code",
    "id": "n38azDKEs1-9",
    "outputId": "32f9855f-bb77-4b2d-fb73-17fe3a8e4b22"
   },
   "outputs": [
    {
     "name": "stdout",
     "output_type": "stream",
     "text": [
      "Learning Curve for Model without BN:\n"
     ]
    },
    {
     "data": {
      "image/png": "[encoded data removed]",
      "text/plain": [
       "<Figure size 576x360 with 1 Axes>"
      ]
     },
     "metadata": {
      "tags": []
     },
     "output_type": "display_data"
    }
   ],
   "source": [
    "import pandas as pd\n",
    "import matplotlib as mpl\n",
    "import matplotlib.pyplot as plt\n",
    "\n",
    "def plot_learning_curve(history):\n",
    "  pd.DataFrame(history.history).plot(figsize=(8, 5))\n",
    "\n",
    "print(\"Learning Curve for Model without BN:\")\n",
    "plot_learning_curve(history)"
   ]
  },
  {
   "cell_type": "code",
   "execution_count": 13,
   "metadata": {
    "colab": {
     "base_uri": "https://localhost:8080/",
     "height": 337
    },
    "colab_type": "code",
    "id": "oBXO15U5vWfZ",
    "outputId": "82e7a61d-4c03-4d78-da80-e1045c2639ee"
   },
   "outputs": [
    {
     "name": "stdout",
     "output_type": "stream",
     "text": [
      "Learning Curve for Model with BN:\n"
     ]
    },
    {
     "data": {
      "image/png": "[encoded data removed]",
      "text/plain": [
       "<Figure size 576x360 with 1 Axes>"
      ]
     },
     "metadata": {
      "tags": []
     },
     "output_type": "display_data"
    }
   ],
   "source": [
    "print(\"Learning Curve for Model with BN:\")\n",
    "plot_learning_curve(history_w_BN)"
   ]
  },
  {
   "cell_type": "markdown",
   "metadata": {
    "colab_type": "text",
    "id": "7FtbOsbfwCKG"
   },
   "source": [
    "d). Try replacing Batch Normalization with SELU, and make the necessary adjustements to ensure the network self-normalizes (i.e., standardize the input features, use LeCun normal initialization, make sure the DNN contains only a sequence of dense layers, etc.)."
   ]
  },
  {
   "cell_type": "code",
   "execution_count": 0,
   "metadata": {
    "colab": {},
    "colab_type": "code",
    "id": "wYd050pzwBj6"
   },
   "outputs": [],
   "source": [
    "def build_model_SN(n_units=100, n_layers=20, activation='selu'):\n",
    "  model = keras.models.Sequential()\n",
    "  model.add(keras.layers.Flatten(input_shape=[32,32,3]))\n",
    "  model.add(keras.layers.BatchNormalization())\n",
    "  for _ in range(n_layers):\n",
    "    model.add(keras.layers.Dense(n_units, activation, kernel_initializer=\"lecun_normal\"))\n",
    "  model.add(keras.layers.Dense(10, 'softmax'))\n",
    "  return model"
   ]
  },
  {
   "cell_type": "code",
   "execution_count": 15,
   "metadata": {
    "colab": {
     "base_uri": "https://localhost:8080/",
     "height": 400
    },
    "colab_type": "code",
    "id": "1w6wRcy4vr7c",
    "outputId": "5b334317-cb83-4b7b-b4cd-81b3b97a39d6"
   },
   "outputs": [
    {
     "name": "stdout",
     "output_type": "stream",
     "text": [
      "Train on 18000 samples, validate on 2000 samples\n",
      "Epoch 1/35\n",
      "18000/18000 [==============================] - 9s 479us/sample - loss: 2.6963 - accuracy: 0.1284 - val_loss: 2.4939 - val_accuracy: 0.0955\n",
      "Epoch 2/35\n",
      "18000/18000 [==============================] - 6s 327us/sample - loss: 203207.6725 - accuracy: 0.1047 - val_loss: 2.3691 - val_accuracy: 0.1105\n",
      "Epoch 3/35\n",
      "18000/18000 [==============================] - 6s 331us/sample - loss: 2.3334 - accuracy: 0.1015 - val_loss: 2.3804 - val_accuracy: 0.0965\n",
      "Epoch 4/35\n",
      "18000/18000 [==============================] - 6s 328us/sample - loss: 2.3361 - accuracy: 0.1026 - val_loss: 2.3760 - val_accuracy: 0.0850\n",
      "Epoch 5/35\n",
      "18000/18000 [==============================] - 6s 352us/sample - loss: 2.3392 - accuracy: 0.0986 - val_loss: 2.3326 - val_accuracy: 0.0965\n",
      "Epoch 6/35\n",
      "18000/18000 [==============================] - 6s 333us/sample - loss: 2.3380 - accuracy: 0.1024 - val_loss: 2.3407 - val_accuracy: 0.0905\n",
      "Epoch 7/35\n",
      "18000/18000 [==============================] - 6s 342us/sample - loss: 2.3395 - accuracy: 0.0982 - val_loss: 2.3491 - val_accuracy: 0.1120\n",
      "Epoch 8/35\n",
      "18000/18000 [==============================] - 6s 335us/sample - loss: 2.3416 - accuracy: 0.1008 - val_loss: 2.3562 - val_accuracy: 0.1040\n",
      "Epoch 9/35\n",
      "18000/18000 [==============================] - 6s 342us/sample - loss: 2.3402 - accuracy: 0.1032 - val_loss: 2.3504 - val_accuracy: 0.0915\n",
      "Epoch 10/35\n",
      "18000/18000 [==============================] - 6s 358us/sample - loss: 2.3406 - accuracy: 0.1004 - val_loss: 2.3522 - val_accuracy: 0.1005\n"
     ]
    }
   ],
   "source": [
    "model = build_model_SN()\n",
    "model.compile(loss='sparse_categorical_crossentropy', optimizer=keras.optimizers.Nadam(learning_rate=0.01), metrics=['accuracy'])\n",
    "t0 = time.time()\n",
    "history_SN = model.fit(X_train, y_train, epochs=n_epochs, validation_split=0.1, callbacks=[keras.callbacks.EarlyStopping(patience=5, restore_best_weights=True)])\n",
    "t1 = time.time()\n",
    "total = t1 - t0"
   ]
  },
  {
   "cell_type": "code",
   "execution_count": 16,
   "metadata": {
    "colab": {
     "base_uri": "https://localhost:8080/",
     "height": 35
    },
    "colab_type": "code",
    "id": "GLEiW51tCQGD",
    "outputId": "6cb3da85-3461-4fa1-c76c-53d9823f103a"
   },
   "outputs": [
    {
     "name": "stdout",
     "output_type": "stream",
     "text": [
      "Time Spanned for SN: 63.67\n"
     ]
    }
   ],
   "source": [
    "print(\"Time Spanned for SN:\", np.round(total, 2))"
   ]
  },
  {
   "cell_type": "code",
   "execution_count": 17,
   "metadata": {
    "colab": {
     "base_uri": "https://localhost:8080/",
     "height": 52
    },
    "colab_type": "code",
    "id": "f9bf62oKJMSw",
    "outputId": "654ba40c-46cf-4c38-cc45-d1f08f6ac7d6"
   },
   "outputs": [
    {
     "name": "stdout",
     "output_type": "stream",
     "text": [
      "4500/4500 [==============================] - 0s 91us/sample - loss: 2.3334 - accuracy: 0.0996\n"
     ]
    },
    {
     "data": {
      "text/plain": [
       "[2.333439425998264, 0.09955555]"
      ]
     },
     "execution_count": 17,
     "metadata": {
      "tags": []
     },
     "output_type": "execute_result"
    }
   ],
   "source": [
    "model.evaluate(X_test, y_test)"
   ]
  },
  {
   "cell_type": "code",
   "execution_count": 18,
   "metadata": {
    "colab": {
     "base_uri": "https://localhost:8080/",
     "height": 337
    },
    "colab_type": "code",
    "id": "AzvL2f4dwdyn",
    "outputId": "81424dc2-2c2d-4992-cbbc-735fc4dc6f69"
   },
   "outputs": [
    {
     "name": "stdout",
     "output_type": "stream",
     "text": [
      "Learning Curve for SN Model:\n"
     ]
    },
    {
     "data": {
      "image/png": "[encoded data removed]",
      "text/plain": [
       "<Figure size 576x360 with 1 Axes>"
      ]
     },
     "metadata": {
      "tags": []
     },
     "output_type": "display_data"
    }
   ],
   "source": [
    "print(\"Learning Curve for SN Model:\")\n",
    "plot_learning_curve(history_SN)"
   ]
  },
  {
   "cell_type": "markdown",
   "metadata": {
    "colab_type": "text",
    "id": "Ml3A_OB-zjgQ"
   },
   "source": [
    "Now that we have finished training 3 different neural networks, we can see that neural networks with Batch Normalization and self-normalization has faster training speed in the sense that it reaches higher accuracy faster than the neural network without any normalization."
   ]
  },
  {
   "cell_type": "markdown",
   "metadata": {
    "colab_type": "text",
    "id": "xdkDUG4v0Dgo"
   },
   "source": [
    "e). Try regularizing the model with alpha dropout. Then, without retraining your model, see if you can achieve better accuracy using MC Dropout."
   ]
  },
  {
   "cell_type": "code",
   "execution_count": 0,
   "metadata": {
    "colab": {},
    "colab_type": "code",
    "id": "12dp-hz6zduV"
   },
   "outputs": [],
   "source": [
    "def build_model_Alpha(n_units=100, n_layers=20, activation='elu'):\n",
    "  model = keras.models.Sequential()\n",
    "  model.add(keras.layers.Flatten(input_shape=[32,32,3]))\n",
    "  model.add(keras.layers.BatchNormalization(momentum=0.9))\n",
    "  for _ in range(n_layers):\n",
    "    model.add(keras.layers.Dense(n_units, activation, kernel_initializer=\"he_normal\"))\n",
    "    model.add(keras.layers.AlphaDropout(rate=0.5))\n",
    "  model.add(keras.layers.Dense(10, 'softmax'))\n",
    "  return model"
   ]
  },
  {
   "cell_type": "code",
   "execution_count": 20,
   "metadata": {
    "colab": {
     "base_uri": "https://localhost:8080/",
     "height": 262
    },
    "colab_type": "code",
    "id": "lKZGBJtW28XM",
    "outputId": "9ffb1e1e-a1de-48cd-9366-93e6ae9f2d47"
   },
   "outputs": [
    {
     "name": "stdout",
     "output_type": "stream",
     "text": [
      "Train on 18000 samples, validate on 2000 samples\n",
      "Epoch 1/35\n",
      "18000/18000 [==============================] - 11s 627us/sample - loss: 2.7334 - accuracy: 0.1040 - val_loss: 11.0223 - val_accuracy: 0.0945\n",
      "Epoch 2/35\n",
      "18000/18000 [==============================] - 8s 462us/sample - loss: 2.3749 - accuracy: 0.1010 - val_loss: 35449.8111 - val_accuracy: 0.0905\n",
      "Epoch 3/35\n",
      "18000/18000 [==============================] - 8s 440us/sample - loss: 2.3105 - accuracy: 0.1094 - val_loss: 98502.5324 - val_accuracy: 0.0915\n",
      "Epoch 4/35\n",
      "18000/18000 [==============================] - 7s 413us/sample - loss: 2.2560 - accuracy: 0.1348 - val_loss: 210931.6694 - val_accuracy: 0.1125\n",
      "Epoch 5/35\n",
      "18000/18000 [==============================] - 8s 423us/sample - loss: 2.1946 - accuracy: 0.1515 - val_loss: 57423.9341 - val_accuracy: 0.0915\n",
      "Epoch 6/35\n",
      "18000/18000 [==============================] - 8s 427us/sample - loss: 2.1452 - accuracy: 0.1585 - val_loss: 34573.1715 - val_accuracy: 0.0965\n"
     ]
    }
   ],
   "source": [
    "model = build_model_Alpha()\n",
    "model.compile(loss='sparse_categorical_crossentropy', optimizer=keras.optimizers.Nadam(learning_rate=0.001), metrics=['accuracy'])\n",
    "t0 = time.time()\n",
    "history_Alpha = model.fit(X_train, y_train, epochs=n_epochs, validation_split=0.1, callbacks=[keras.callbacks.EarlyStopping(patience=5, restore_best_weights=True)])\n",
    "t1 = time.time()\n",
    "total = t1 - t0"
   ]
  },
  {
   "cell_type": "code",
   "execution_count": 21,
   "metadata": {
    "colab": {
     "base_uri": "https://localhost:8080/",
     "height": 35
    },
    "colab_type": "code",
    "id": "kJT0mYdGCYEj",
    "outputId": "1f3696ba-5dee-4993-f9e6-6b4e9adca910"
   },
   "outputs": [
    {
     "name": "stdout",
     "output_type": "stream",
     "text": [
      "Time Spanned for Dropout: 50.44\n"
     ]
    }
   ],
   "source": [
    "print(\"Time Spanned for Dropout:\", np.round(total, 2))"
   ]
  },
  {
   "cell_type": "code",
   "execution_count": 22,
   "metadata": {
    "colab": {
     "base_uri": "https://localhost:8080/",
     "height": 52
    },
    "colab_type": "code",
    "id": "EFk4kIv5JNc6",
    "outputId": "a4626560-63b0-48e7-ec63-9d4284bb4bca"
   },
   "outputs": [
    {
     "name": "stdout",
     "output_type": "stream",
     "text": [
      "4500/4500 [==============================] - 0s 90us/sample - loss: 10.8700 - accuracy: 0.1002\n"
     ]
    },
    {
     "data": {
      "text/plain": [
       "[10.87002451494005, 0.10022222]"
      ]
     },
     "execution_count": 22,
     "metadata": {
      "tags": []
     },
     "output_type": "execute_result"
    }
   ],
   "source": [
    "model.evaluate(X_test, y_test)"
   ]
  },
  {
   "cell_type": "code",
   "execution_count": 23,
   "metadata": {
    "colab": {
     "base_uri": "https://localhost:8080/",
     "height": 337
    },
    "colab_type": "code",
    "id": "Hl4ZH_1p3AAX",
    "outputId": "7e6aa158-f41f-436a-fbf3-f217e92885ab"
   },
   "outputs": [
    {
     "name": "stdout",
     "output_type": "stream",
     "text": [
      "Learning Curve for Model with Alpha Dropout:\n"
     ]
    },
    {
     "data": {
      "image/png": "[encoded data removed]",
      "text/plain": [
       "<Figure size 576x360 with 1 Axes>"
      ]
     },
     "metadata": {
      "tags": []
     },
     "output_type": "display_data"
    }
   ],
   "source": [
    "print(\"Learning Curve for Model with Alpha Dropout:\")\n",
    "plot_learning_curve(history_Alpha)"
   ]
  },
  {
   "cell_type": "markdown",
   "metadata": {
    "colab_type": "text",
    "id": "JyrfdRMh5lz7"
   },
   "source": [
    "The learning curve is obviously wacky. I think the main issue lies in that it's not optimized enough and the hyperparameters are not tuned. Also, keep in mind that the data is shortened for the sake of computational time."
   ]
  },
  {
   "cell_type": "markdown",
   "metadata": {
    "colab_type": "text",
    "id": "pUvOLJgs6LQq"
   },
   "source": [
    "Let's apply MC Dropout!"
   ]
  },
  {
   "cell_type": "code",
   "execution_count": 0,
   "metadata": {
    "colab": {},
    "colab_type": "code",
    "id": "2GdQtnDJ4Pts"
   },
   "outputs": [],
   "source": [
    "X_test_mod = tf.dtypes.cast(X_test, tf.float32)\n",
    "y_prob = np.stack([model(X_test_mod, training=True) for sample in range(100)])\n",
    "y_mean = y_prob.mean(axis=0)\n",
    "y_std = y_prob.std(axis=0)"
   ]
  },
  {
   "cell_type": "code",
   "execution_count": 25,
   "metadata": {
    "colab": {
     "base_uri": "https://localhost:8080/",
     "height": 52
    },
    "colab_type": "code",
    "id": "QxraVuTx7tof",
    "outputId": "b658b17a-8fb8-4984-c006-10730f08264f"
   },
   "outputs": [
    {
     "data": {
      "text/plain": [
       "array([[0.  , 0.57, 0.19, 0.  , 0.  , 0.14, 0.  , 0.1 , 0.  , 0.  ]],\n",
       "      dtype=float32)"
      ]
     },
     "execution_count": 25,
     "metadata": {
      "tags": []
     },
     "output_type": "execute_result"
    }
   ],
   "source": [
    "np.round(model.predict(X_test[:1]), 2)"
   ]
  },
  {
   "cell_type": "code",
   "execution_count": 26,
   "metadata": {
    "colab": {
     "base_uri": "https://localhost:8080/",
     "height": 1000
    },
    "colab_type": "code",
    "id": "S8TjY-wa8PvW",
    "outputId": "bb719a1e-83fb-4909-eb52-058d0a84486b"
   },
   "outputs": [
    {
     "data": {
      "text/plain": [
       "array([[[0.05, 0.09, 0.08, 0.09, 0.11, 0.05, 0.16, 0.05, 0.09, 0.23]],\n",
       "\n",
       "       [[0.04, 0.16, 0.11, 0.06, 0.08, 0.05, 0.13, 0.13, 0.15, 0.09]],\n",
       "\n",
       "       [[0.08, 0.06, 0.03, 0.04, 0.1 , 0.12, 0.14, 0.07, 0.24, 0.12]],\n",
       "\n",
       "       [[0.07, 0.05, 0.07, 0.07, 0.11, 0.06, 0.05, 0.05, 0.17, 0.29]],\n",
       "\n",
       "       [[0.03, 0.18, 0.09, 0.08, 0.1 , 0.16, 0.09, 0.08, 0.08, 0.11]],\n",
       "\n",
       "       [[0.06, 0.18, 0.06, 0.06, 0.11, 0.11, 0.09, 0.06, 0.08, 0.19]],\n",
       "\n",
       "       [[0.02, 0.1 , 0.08, 0.1 , 0.2 , 0.09, 0.13, 0.12, 0.09, 0.07]],\n",
       "\n",
       "       [[0.09, 0.08, 0.05, 0.18, 0.15, 0.11, 0.1 , 0.16, 0.03, 0.03]],\n",
       "\n",
       "       [[0.08, 0.04, 0.14, 0.15, 0.1 , 0.05, 0.19, 0.06, 0.03, 0.15]],\n",
       "\n",
       "       [[0.08, 0.06, 0.13, 0.13, 0.19, 0.12, 0.04, 0.14, 0.06, 0.06]],\n",
       "\n",
       "       [[0.03, 0.08, 0.13, 0.18, 0.08, 0.08, 0.06, 0.06, 0.19, 0.1 ]],\n",
       "\n",
       "       [[0.09, 0.09, 0.06, 0.07, 0.08, 0.25, 0.1 , 0.14, 0.07, 0.06]],\n",
       "\n",
       "       [[0.11, 0.05, 0.06, 0.16, 0.13, 0.06, 0.13, 0.13, 0.13, 0.05]],\n",
       "\n",
       "       [[0.12, 0.11, 0.05, 0.1 , 0.05, 0.18, 0.11, 0.11, 0.08, 0.08]],\n",
       "\n",
       "       [[0.09, 0.05, 0.02, 0.11, 0.13, 0.22, 0.18, 0.06, 0.1 , 0.05]],\n",
       "\n",
       "       [[0.13, 0.3 , 0.11, 0.12, 0.04, 0.05, 0.12, 0.02, 0.03, 0.08]],\n",
       "\n",
       "       [[0.06, 0.04, 0.1 , 0.07, 0.13, 0.17, 0.12, 0.11, 0.13, 0.07]],\n",
       "\n",
       "       [[0.05, 0.06, 0.16, 0.2 , 0.06, 0.12, 0.07, 0.08, 0.06, 0.13]],\n",
       "\n",
       "       [[0.11, 0.14, 0.06, 0.06, 0.1 , 0.03, 0.06, 0.12, 0.18, 0.14]],\n",
       "\n",
       "       [[0.13, 0.03, 0.13, 0.09, 0.19, 0.04, 0.02, 0.16, 0.08, 0.12]],\n",
       "\n",
       "       [[0.17, 0.1 , 0.05, 0.15, 0.06, 0.06, 0.1 , 0.1 , 0.12, 0.1 ]],\n",
       "\n",
       "       [[0.12, 0.14, 0.04, 0.07, 0.03, 0.17, 0.1 , 0.23, 0.05, 0.04]],\n",
       "\n",
       "       [[0.12, 0.08, 0.03, 0.15, 0.18, 0.05, 0.13, 0.07, 0.07, 0.13]],\n",
       "\n",
       "       [[0.23, 0.09, 0.06, 0.17, 0.1 , 0.1 , 0.06, 0.05, 0.04, 0.1 ]],\n",
       "\n",
       "       [[0.15, 0.1 , 0.07, 0.06, 0.13, 0.08, 0.07, 0.06, 0.07, 0.22]],\n",
       "\n",
       "       [[0.18, 0.09, 0.03, 0.04, 0.13, 0.03, 0.13, 0.08, 0.21, 0.08]],\n",
       "\n",
       "       [[0.18, 0.08, 0.18, 0.06, 0.07, 0.07, 0.17, 0.05, 0.09, 0.04]],\n",
       "\n",
       "       [[0.09, 0.21, 0.02, 0.26, 0.04, 0.09, 0.11, 0.11, 0.05, 0.02]],\n",
       "\n",
       "       [[0.1 , 0.06, 0.1 , 0.18, 0.09, 0.05, 0.1 , 0.14, 0.12, 0.06]],\n",
       "\n",
       "       [[0.04, 0.05, 0.04, 0.09, 0.07, 0.16, 0.08, 0.14, 0.08, 0.25]],\n",
       "\n",
       "       [[0.07, 0.1 , 0.06, 0.15, 0.11, 0.04, 0.09, 0.04, 0.23, 0.11]],\n",
       "\n",
       "       [[0.03, 0.06, 0.09, 0.19, 0.03, 0.11, 0.2 , 0.07, 0.18, 0.05]],\n",
       "\n",
       "       [[0.11, 0.11, 0.05, 0.05, 0.08, 0.04, 0.07, 0.11, 0.07, 0.32]],\n",
       "\n",
       "       [[0.09, 0.1 , 0.1 , 0.05, 0.19, 0.18, 0.13, 0.07, 0.05, 0.04]],\n",
       "\n",
       "       [[0.07, 0.06, 0.16, 0.1 , 0.22, 0.09, 0.06, 0.13, 0.07, 0.04]],\n",
       "\n",
       "       [[0.09, 0.12, 0.07, 0.09, 0.12, 0.09, 0.12, 0.16, 0.06, 0.08]],\n",
       "\n",
       "       [[0.1 , 0.06, 0.04, 0.16, 0.03, 0.12, 0.12, 0.17, 0.08, 0.11]],\n",
       "\n",
       "       [[0.08, 0.1 , 0.08, 0.09, 0.12, 0.07, 0.12, 0.16, 0.04, 0.13]],\n",
       "\n",
       "       [[0.14, 0.07, 0.09, 0.08, 0.09, 0.03, 0.16, 0.13, 0.06, 0.16]],\n",
       "\n",
       "       [[0.02, 0.06, 0.14, 0.02, 0.07, 0.31, 0.07, 0.2 , 0.07, 0.04]],\n",
       "\n",
       "       [[0.19, 0.06, 0.19, 0.11, 0.1 , 0.07, 0.08, 0.03, 0.05, 0.12]],\n",
       "\n",
       "       [[0.14, 0.05, 0.08, 0.14, 0.09, 0.03, 0.2 , 0.07, 0.14, 0.06]],\n",
       "\n",
       "       [[0.12, 0.11, 0.09, 0.08, 0.1 , 0.04, 0.06, 0.21, 0.09, 0.1 ]],\n",
       "\n",
       "       [[0.06, 0.17, 0.08, 0.08, 0.13, 0.09, 0.05, 0.06, 0.09, 0.19]],\n",
       "\n",
       "       [[0.04, 0.12, 0.08, 0.09, 0.21, 0.19, 0.02, 0.04, 0.1 , 0.11]],\n",
       "\n",
       "       [[0.04, 0.1 , 0.11, 0.05, 0.04, 0.17, 0.17, 0.17, 0.08, 0.08]],\n",
       "\n",
       "       [[0.02, 0.06, 0.3 , 0.06, 0.13, 0.13, 0.05, 0.13, 0.08, 0.06]],\n",
       "\n",
       "       [[0.07, 0.05, 0.07, 0.03, 0.05, 0.2 , 0.21, 0.15, 0.05, 0.12]],\n",
       "\n",
       "       [[0.18, 0.14, 0.1 , 0.02, 0.11, 0.02, 0.12, 0.06, 0.09, 0.16]],\n",
       "\n",
       "       [[0.05, 0.05, 0.13, 0.21, 0.08, 0.1 , 0.04, 0.24, 0.05, 0.05]],\n",
       "\n",
       "       [[0.16, 0.1 , 0.08, 0.16, 0.07, 0.1 , 0.07, 0.1 , 0.08, 0.09]],\n",
       "\n",
       "       [[0.05, 0.09, 0.09, 0.04, 0.22, 0.07, 0.07, 0.07, 0.07, 0.25]],\n",
       "\n",
       "       [[0.04, 0.06, 0.15, 0.02, 0.16, 0.07, 0.1 , 0.19, 0.16, 0.05]],\n",
       "\n",
       "       [[0.08, 0.09, 0.07, 0.07, 0.07, 0.04, 0.13, 0.11, 0.18, 0.16]],\n",
       "\n",
       "       [[0.02, 0.02, 0.07, 0.08, 0.24, 0.04, 0.08, 0.04, 0.04, 0.36]],\n",
       "\n",
       "       [[0.06, 0.17, 0.05, 0.09, 0.07, 0.18, 0.12, 0.02, 0.12, 0.14]],\n",
       "\n",
       "       [[0.09, 0.12, 0.06, 0.24, 0.07, 0.08, 0.17, 0.04, 0.08, 0.05]],\n",
       "\n",
       "       [[0.05, 0.06, 0.15, 0.18, 0.09, 0.15, 0.05, 0.08, 0.02, 0.16]],\n",
       "\n",
       "       [[0.1 , 0.21, 0.18, 0.07, 0.04, 0.1 , 0.07, 0.13, 0.05, 0.05]],\n",
       "\n",
       "       [[0.05, 0.1 , 0.05, 0.17, 0.06, 0.12, 0.11, 0.09, 0.14, 0.09]],\n",
       "\n",
       "       [[0.37, 0.02, 0.05, 0.03, 0.08, 0.05, 0.03, 0.09, 0.2 , 0.08]],\n",
       "\n",
       "       [[0.1 , 0.07, 0.1 , 0.06, 0.08, 0.17, 0.11, 0.07, 0.12, 0.12]],\n",
       "\n",
       "       [[0.08, 0.11, 0.25, 0.09, 0.06, 0.08, 0.07, 0.14, 0.03, 0.09]],\n",
       "\n",
       "       [[0.08, 0.1 , 0.03, 0.15, 0.06, 0.07, 0.04, 0.06, 0.37, 0.03]],\n",
       "\n",
       "       [[0.1 , 0.24, 0.07, 0.08, 0.04, 0.1 , 0.04, 0.18, 0.05, 0.1 ]],\n",
       "\n",
       "       [[0.08, 0.14, 0.1 , 0.1 , 0.09, 0.14, 0.07, 0.11, 0.1 , 0.06]],\n",
       "\n",
       "       [[0.05, 0.28, 0.05, 0.04, 0.15, 0.11, 0.08, 0.09, 0.08, 0.09]],\n",
       "\n",
       "       [[0.16, 0.11, 0.14, 0.23, 0.05, 0.06, 0.11, 0.05, 0.05, 0.04]],\n",
       "\n",
       "       [[0.09, 0.05, 0.18, 0.1 , 0.09, 0.07, 0.02, 0.11, 0.14, 0.13]],\n",
       "\n",
       "       [[0.11, 0.12, 0.1 , 0.09, 0.14, 0.09, 0.14, 0.06, 0.05, 0.1 ]],\n",
       "\n",
       "       [[0.14, 0.1 , 0.11, 0.04, 0.07, 0.12, 0.07, 0.16, 0.07, 0.12]],\n",
       "\n",
       "       [[0.09, 0.07, 0.09, 0.05, 0.06, 0.06, 0.04, 0.09, 0.23, 0.22]],\n",
       "\n",
       "       [[0.11, 0.1 , 0.03, 0.16, 0.08, 0.11, 0.04, 0.17, 0.1 , 0.11]],\n",
       "\n",
       "       [[0.04, 0.07, 0.1 , 0.09, 0.21, 0.08, 0.16, 0.07, 0.02, 0.14]],\n",
       "\n",
       "       [[0.11, 0.07, 0.07, 0.05, 0.04, 0.03, 0.18, 0.13, 0.13, 0.18]],\n",
       "\n",
       "       [[0.09, 0.32, 0.04, 0.06, 0.11, 0.08, 0.08, 0.09, 0.06, 0.07]],\n",
       "\n",
       "       [[0.11, 0.27, 0.11, 0.06, 0.04, 0.07, 0.07, 0.04, 0.16, 0.08]],\n",
       "\n",
       "       [[0.06, 0.07, 0.14, 0.08, 0.09, 0.07, 0.15, 0.08, 0.09, 0.16]],\n",
       "\n",
       "       [[0.07, 0.07, 0.14, 0.09, 0.04, 0.11, 0.11, 0.07, 0.12, 0.18]],\n",
       "\n",
       "       [[0.09, 0.14, 0.06, 0.07, 0.08, 0.08, 0.18, 0.08, 0.14, 0.08]],\n",
       "\n",
       "       [[0.27, 0.04, 0.07, 0.13, 0.08, 0.09, 0.14, 0.03, 0.1 , 0.04]],\n",
       "\n",
       "       [[0.11, 0.11, 0.11, 0.13, 0.07, 0.04, 0.14, 0.09, 0.1 , 0.09]],\n",
       "\n",
       "       [[0.02, 0.07, 0.07, 0.06, 0.17, 0.07, 0.1 , 0.11, 0.03, 0.3 ]],\n",
       "\n",
       "       [[0.05, 0.03, 0.17, 0.05, 0.23, 0.17, 0.18, 0.06, 0.03, 0.03]],\n",
       "\n",
       "       [[0.16, 0.1 , 0.12, 0.09, 0.08, 0.11, 0.06, 0.19, 0.04, 0.05]],\n",
       "\n",
       "       [[0.06, 0.17, 0.05, 0.06, 0.06, 0.14, 0.1 , 0.22, 0.06, 0.09]],\n",
       "\n",
       "       [[0.21, 0.08, 0.1 , 0.11, 0.09, 0.03, 0.1 , 0.1 , 0.12, 0.06]],\n",
       "\n",
       "       [[0.08, 0.05, 0.12, 0.15, 0.07, 0.06, 0.12, 0.1 , 0.09, 0.17]],\n",
       "\n",
       "       [[0.12, 0.09, 0.02, 0.08, 0.12, 0.04, 0.13, 0.28, 0.05, 0.06]],\n",
       "\n",
       "       [[0.04, 0.1 , 0.16, 0.1 , 0.02, 0.11, 0.02, 0.31, 0.03, 0.1 ]],\n",
       "\n",
       "       [[0.07, 0.1 , 0.12, 0.19, 0.13, 0.11, 0.05, 0.09, 0.09, 0.06]],\n",
       "\n",
       "       [[0.22, 0.24, 0.05, 0.05, 0.1 , 0.04, 0.06, 0.07, 0.07, 0.1 ]],\n",
       "\n",
       "       [[0.19, 0.17, 0.1 , 0.05, 0.02, 0.04, 0.18, 0.07, 0.09, 0.09]],\n",
       "\n",
       "       [[0.1 , 0.09, 0.04, 0.06, 0.18, 0.15, 0.16, 0.05, 0.13, 0.06]],\n",
       "\n",
       "       [[0.05, 0.19, 0.12, 0.07, 0.09, 0.08, 0.06, 0.11, 0.15, 0.07]],\n",
       "\n",
       "       [[0.12, 0.24, 0.1 , 0.06, 0.05, 0.05, 0.14, 0.04, 0.06, 0.14]],\n",
       "\n",
       "       [[0.07, 0.04, 0.06, 0.19, 0.12, 0.08, 0.11, 0.17, 0.07, 0.08]],\n",
       "\n",
       "       [[0.04, 0.05, 0.1 , 0.05, 0.28, 0.09, 0.06, 0.05, 0.09, 0.19]],\n",
       "\n",
       "       [[0.04, 0.05, 0.38, 0.08, 0.06, 0.08, 0.11, 0.05, 0.09, 0.08]],\n",
       "\n",
       "       [[0.1 , 0.22, 0.02, 0.06, 0.11, 0.09, 0.1 , 0.1 , 0.05, 0.14]]],\n",
       "      dtype=float32)"
      ]
     },
     "execution_count": 26,
     "metadata": {
      "tags": []
     },
     "output_type": "execute_result"
    }
   ],
   "source": [
    "np.round(y_prob[:, :1], 2)"
   ]
  },
  {
   "cell_type": "code",
   "execution_count": 27,
   "metadata": {
    "colab": {
     "base_uri": "https://localhost:8080/",
     "height": 52
    },
    "colab_type": "code",
    "id": "heYol0sl8Sbo",
    "outputId": "1c5785ad-62d2-468a-f792-87634106bf8e"
   },
   "outputs": [
    {
     "data": {
      "text/plain": [
       "array([[0.1 , 0.1 , 0.09, 0.1 , 0.1 , 0.1 , 0.1 , 0.1 , 0.1 , 0.11]],\n",
       "      dtype=float32)"
      ]
     },
     "execution_count": 27,
     "metadata": {
      "tags": []
     },
     "output_type": "execute_result"
    }
   ],
   "source": [
    "np.round(y_mean[:1], 2)"
   ]
  },
  {
   "cell_type": "code",
   "execution_count": 28,
   "metadata": {
    "colab": {
     "base_uri": "https://localhost:8080/",
     "height": 52
    },
    "colab_type": "code",
    "id": "BDS46-nT8Xz4",
    "outputId": "c0466d30-3d8f-4ce3-fbc1-6bc10a50bb61"
   },
   "outputs": [
    {
     "data": {
      "text/plain": [
       "array([[0.06, 0.06, 0.06, 0.05, 0.05, 0.05, 0.05, 0.06, 0.06, 0.07]],\n",
       "      dtype=float32)"
      ]
     },
     "execution_count": 28,
     "metadata": {
      "tags": []
     },
     "output_type": "execute_result"
    }
   ],
   "source": [
    "y_std = y_prob.std(axis=0)\n",
    "np.round(y_std[:1], 2)"
   ]
  },
  {
   "cell_type": "code",
   "execution_count": 0,
   "metadata": {
    "colab": {},
    "colab_type": "code",
    "id": "V0U7m18Y8cuA"
   },
   "outputs": [],
   "source": [
    "y_pred = np.argmax(y_mean, axis=1)"
   ]
  },
  {
   "cell_type": "code",
   "execution_count": 30,
   "metadata": {
    "colab": {
     "base_uri": "https://localhost:8080/",
     "height": 35
    },
    "colab_type": "code",
    "id": "tgP_d3hF9SMZ",
    "outputId": "6b77b707-a70d-409a-d50a-fb0c9d2525e5"
   },
   "outputs": [
    {
     "data": {
      "text/plain": [
       "array([9, 0, 0, ..., 1, 7, 1])"
      ]
     },
     "execution_count": 30,
     "metadata": {
      "tags": []
     },
     "output_type": "execute_result"
    }
   ],
   "source": [
    "y_pred"
   ]
  },
  {
   "cell_type": "code",
   "execution_count": 31,
   "metadata": {
    "colab": {
     "base_uri": "https://localhost:8080/",
     "height": 35
    },
    "colab_type": "code",
    "id": "efXRBzhR9V14",
    "outputId": "50451467-3c82-49ac-eba7-15c609dc19e2"
   },
   "outputs": [
    {
     "data": {
      "text/plain": [
       "array([6, 2, 6, ..., 2, 6, 6], dtype=uint8)"
      ]
     },
     "execution_count": 31,
     "metadata": {
      "tags": []
     },
     "output_type": "execute_result"
    }
   ],
   "source": [
    "y_test_shaped = y_test.reshape(len(y_pred))\n",
    "y_test_shaped"
   ]
  },
  {
   "cell_type": "code",
   "execution_count": 32,
   "metadata": {
    "colab": {
     "base_uri": "https://localhost:8080/",
     "height": 35
    },
    "colab_type": "code",
    "id": "Kuu74DsO8k46",
    "outputId": "08e352e4-79ce-4c19-e5de-40c6c6bf04ec"
   },
   "outputs": [
    {
     "name": "stdout",
     "output_type": "stream",
     "text": [
      "Accuracy: 0.10177777777777777\n"
     ]
    }
   ],
   "source": [
    "count = 0\n",
    "for ix in range(len(y_pred)):\n",
    "  if y_pred[ix] == y_test[ix]:\n",
    "    count += 1\n",
    "print(\"Accuracy:\", count / len(y_test))"
   ]
  },
  {
   "cell_type": "markdown",
   "metadata": {
    "colab_type": "text",
    "id": "76hNOQUl-2Ce"
   },
   "source": [
    "f). Apply 1CycleScheduler and compare accuracy and speed!\n",
    "\n",
    "Note: The following code is obtained from the author's notebook. I simply applied them into my model, as per the instruction!"
   ]
  },
  {
   "cell_type": "code",
   "execution_count": 0,
   "metadata": {
    "colab": {},
    "colab_type": "code",
    "id": "UeoFIEF09OAu"
   },
   "outputs": [],
   "source": [
    "K = keras.backend\n",
    "class OneCycleScheduler(keras.callbacks.Callback):\n",
    "    def __init__(self, iterations, max_rate, start_rate=None,\n",
    "                 last_iterations=None, last_rate=None):\n",
    "        self.iterations = iterations\n",
    "        self.max_rate = max_rate\n",
    "        self.start_rate = start_rate or max_rate / 10\n",
    "        self.last_iterations = last_iterations or iterations // 10 + 1\n",
    "        self.half_iteration = (iterations - self.last_iterations) // 2\n",
    "        self.last_rate = last_rate or self.start_rate / 1000\n",
    "        self.iteration = 0\n",
    "    def _interpolate(self, iter1, iter2, rate1, rate2):\n",
    "        return ((rate2 - rate1) * (self.iteration - iter1)\n",
    "                / (iter2 - iter1) + rate1)\n",
    "    def on_batch_begin(self, batch, logs):\n",
    "        if self.iteration < self.half_iteration:\n",
    "            rate = self._interpolate(0, self.half_iteration, self.start_rate, self.max_rate)\n",
    "        elif self.iteration < 2 * self.half_iteration:\n",
    "            rate = self._interpolate(self.half_iteration, 2 * self.half_iteration,\n",
    "                                     self.max_rate, self.start_rate)\n",
    "        else:\n",
    "            rate = self._interpolate(2 * self.half_iteration, self.iterations,\n",
    "                                     self.start_rate, self.last_rate)\n",
    "            rate = max(rate, self.last_rate)\n",
    "        self.iteration += 1\n",
    "        K.set_value(self.model.optimizer.lr, rate)"
   ]
  },
  {
   "cell_type": "code",
   "execution_count": 34,
   "metadata": {
    "colab": {
     "base_uri": "https://localhost:8080/",
     "height": 331
    },
    "colab_type": "code",
    "id": "ITAVNCFj_ecK",
    "outputId": "7955c9cb-45e7-45fb-fc72-276f5fe0f016"
   },
   "outputs": [
    {
     "name": "stdout",
     "output_type": "stream",
     "text": [
      "Train on 18000 samples, validate on 2000 samples\n",
      "Epoch 1/35\n",
      "18000/18000 [==============================] - 11s 595us/sample - loss: 2.4454 - accuracy: 0.1004 - val_loss: 2.7544 - val_accuracy: 0.1005\n",
      "Epoch 2/35\n",
      "18000/18000 [==============================] - 8s 419us/sample - loss: 1036.9341 - accuracy: 0.1021 - val_loss: 2.8688 - val_accuracy: 0.1120\n",
      "Epoch 3/35\n",
      "18000/18000 [==============================] - 9s 473us/sample - loss: 4222.4567 - accuracy: 0.0969 - val_loss: 2.6214 - val_accuracy: 0.1040\n",
      "Epoch 4/35\n",
      "18000/18000 [==============================] - 8s 443us/sample - loss: 1946003999.0136 - accuracy: 0.1038 - val_loss: 2.7379 - val_accuracy: 0.1115\n",
      "Epoch 5/35\n",
      "18000/18000 [==============================] - 8s 442us/sample - loss: 3884325824377.4692 - accuracy: 0.0989 - val_loss: 2.8636 - val_accuracy: 0.1040\n",
      "Epoch 6/35\n",
      "18000/18000 [==============================] - 8s 442us/sample - loss: 665086648047.8682 - accuracy: 0.0973 - val_loss: 3.0723 - val_accuracy: 0.1040\n",
      "Epoch 7/35\n",
      "18000/18000 [==============================] - 8s 461us/sample - loss: 179279425135.7101 - accuracy: 0.0983 - val_loss: 3.4483 - val_accuracy: 0.0915\n",
      "Epoch 8/35\n",
      "18000/18000 [==============================] - 8s 454us/sample - loss: 56820757677824.1406 - accuracy: 0.1022 - val_loss: 3.2698 - val_accuracy: 0.1120\n"
     ]
    }
   ],
   "source": [
    "model = build_model_Alpha()\n",
    "batch_size = 32\n",
    "onecycle = OneCycleScheduler(len(X_train) // batch_size * 15, max_rate=0.05)\n",
    "model.compile(loss='sparse_categorical_crossentropy', optimizer=keras.optimizers.Nadam(learning_rate=0.001), metrics=['accuracy'])\n",
    "t0 = time.time()\n",
    "history_Alpha = model.fit(X_train, y_train, epochs=n_epochs, validation_split=0.1, callbacks=[onecycle, keras.callbacks.EarlyStopping(patience=5, restore_best_weights=True)])\n",
    "t1 = time.time()\n",
    "total = t1 - t0"
   ]
  },
  {
   "cell_type": "code",
   "execution_count": 35,
   "metadata": {
    "colab": {
     "base_uri": "https://localhost:8080/",
     "height": 35
    },
    "colab_type": "code",
    "id": "TeS-3HKdCgzh",
    "outputId": "9a3273df-356c-431b-8527-d6a6b2ed7c3d"
   },
   "outputs": [
    {
     "name": "stdout",
     "output_type": "stream",
     "text": [
      "Time Spanned for 1Cycle Dropout: 67.3\n"
     ]
    }
   ],
   "source": [
    "print(\"Time Spanned for 1Cycle Dropout:\", np.round(total, 2))"
   ]
  },
  {
   "cell_type": "code",
   "execution_count": 36,
   "metadata": {
    "colab": {
     "base_uri": "https://localhost:8080/",
     "height": 52
    },
    "colab_type": "code",
    "id": "mj_5Ez2D_0Ur",
    "outputId": "22e18021-7326-4ed5-d1b4-47b9503902d3"
   },
   "outputs": [
    {
     "name": "stdout",
     "output_type": "stream",
     "text": [
      "4500/4500 [==============================] - 0s 99us/sample - loss: 2.6392 - accuracy: 0.0996\n"
     ]
    },
    {
     "data": {
      "text/plain": [
       "[2.639216988881429, 0.09955555]"
      ]
     },
     "execution_count": 36,
     "metadata": {
      "tags": []
     },
     "output_type": "execute_result"
    }
   ],
   "source": [
    "model.evaluate(X_test, y_test)"
   ]
  }
 ],
 "metadata": {
  "accelerator": "GPU",
  "colab": {
   "collapsed_sections": [],
   "name": "Ch.11_Soln.ipynb",
   "provenance": []
  },
  "kernelspec": {
   "display_name": "Python 3",
   "language": "python",
   "name": "python3"
  },
  "language_info": {
   "codemirror_mode": {
    "name": "ipython",
    "version": 3
   },
   "file_extension": ".py",
   "mimetype": "text/x-python",
   "name": "python",
   "nbconvert_exporter": "python",
   "pygments_lexer": "ipython3",
   "version": "3.7.2"
  }
 },
 "nbformat": 4,
 "nbformat_minor": 1
}
